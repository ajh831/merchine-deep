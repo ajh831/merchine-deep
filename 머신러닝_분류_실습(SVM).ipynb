{
 "cells": [
  {
   "cell_type": "markdown",
   "id": "6f8be7ea-8a04-471c-9956-aceac8ce4cda",
   "metadata": {},
   "source": [
    "### 라이브러리 불러오기"
   ]
  },
  {
   "cell_type": "code",
   "execution_count": 1,
   "id": "117ae8cf-1c97-44a2-af72-9661a6644ebd",
   "metadata": {},
   "outputs": [],
   "source": [
    "import pandas as pd\n",
    "import numpy as np"
   ]
  },
  {
   "cell_type": "code",
   "execution_count": 18,
   "id": "bb56674d-decc-419b-b73c-136bc6523b15",
   "metadata": {},
   "outputs": [],
   "source": [
    "# 모델 라이브러리 선언\n",
    "from sklearn import svm\n",
    "\n",
    "# 훈련/테스트 데이터 자동 분리\n",
    "from sklearn.model_selection import train_test_split\n",
    "\n",
    "# 모델 정확도 라이브러리 선언\n",
    "from sklearn.metrics import accuracy_score\n",
    "from sklearn.metrics import classification_report"
   ]
  },
  {
   "cell_type": "markdown",
   "id": "5b747173-8b10-4db6-ba47-1c57e842a16a",
   "metadata": {},
   "source": [
    "### 데이터 불러오기"
   ]
  },
  {
   "cell_type": "code",
   "execution_count": 3,
   "id": "53b9ddef-6f4c-4174-868a-4c21956287cd",
   "metadata": {},
   "outputs": [],
   "source": [
    "csData = pd.read_csv(\"https://raw.githubusercontent.com/hyokwan/python-lecture/master/dataset/customer.csv\")"
   ]
  },
  {
   "cell_type": "code",
   "execution_count": 4,
   "id": "7ee22510-d08c-407a-a08b-925863adf8e9",
   "metadata": {},
   "outputs": [
    {
     "data": {
      "text/html": [
       "<div>\n",
       "<style scoped>\n",
       "    .dataframe tbody tr th:only-of-type {\n",
       "        vertical-align: middle;\n",
       "    }\n",
       "\n",
       "    .dataframe tbody tr th {\n",
       "        vertical-align: top;\n",
       "    }\n",
       "\n",
       "    .dataframe thead th {\n",
       "        text-align: right;\n",
       "    }\n",
       "</style>\n",
       "<table border=\"1\" class=\"dataframe\">\n",
       "  <thead>\n",
       "    <tr style=\"text-align: right;\">\n",
       "      <th></th>\n",
       "      <th>balance</th>\n",
       "      <th>stock</th>\n",
       "      <th>label</th>\n",
       "    </tr>\n",
       "  </thead>\n",
       "  <tbody>\n",
       "    <tr>\n",
       "      <th>0</th>\n",
       "      <td>30000000</td>\n",
       "      <td>22500000</td>\n",
       "      <td>normal</td>\n",
       "    </tr>\n",
       "    <tr>\n",
       "      <th>1</th>\n",
       "      <td>280000000</td>\n",
       "      <td>48000000</td>\n",
       "      <td>diamond</td>\n",
       "    </tr>\n",
       "    <tr>\n",
       "      <th>2</th>\n",
       "      <td>300000000</td>\n",
       "      <td>40666666</td>\n",
       "      <td>diamond</td>\n",
       "    </tr>\n",
       "    <tr>\n",
       "      <th>3</th>\n",
       "      <td>54000000</td>\n",
       "      <td>28000000</td>\n",
       "      <td>normal</td>\n",
       "    </tr>\n",
       "    <tr>\n",
       "      <th>4</th>\n",
       "      <td>768000000</td>\n",
       "      <td>32000000</td>\n",
       "      <td>vip</td>\n",
       "    </tr>\n",
       "  </tbody>\n",
       "</table>\n",
       "</div>"
      ],
      "text/plain": [
       "     balance     stock    label\n",
       "0   30000000  22500000   normal\n",
       "1  280000000  48000000  diamond\n",
       "2  300000000  40666666  diamond\n",
       "3   54000000  28000000   normal\n",
       "4  768000000  32000000      vip"
      ]
     },
     "execution_count": 4,
     "metadata": {},
     "output_type": "execute_result"
    }
   ],
   "source": [
    "csData.head()"
   ]
  },
  {
   "cell_type": "markdown",
   "id": "e6763252-c644-47ce-b792-b8d4c570abe6",
   "metadata": {},
   "source": [
    "### 1. 타입통합 / 특정 숫자 컬럼 추가"
   ]
  },
  {
   "cell_type": "code",
   "execution_count": 5,
   "id": "ee4b43a2-bc8f-469b-9803-dbfd2cfc7b5a",
   "metadata": {},
   "outputs": [],
   "source": [
    "# 라벨 유형 확인\n",
    "labels = csData.label.drop_duplicates()"
   ]
  },
  {
   "cell_type": "code",
   "execution_count": 6,
   "id": "597ab9c4-43cb-481a-ac93-ec0765bc0daf",
   "metadata": {},
   "outputs": [
    {
     "name": "stdout",
     "output_type": "stream",
     "text": [
      "0     normal\n",
      "1    diamond\n",
      "4        vip\n",
      "Name: label, dtype: object\n"
     ]
    }
   ],
   "source": [
    "print(labels)"
   ]
  },
  {
   "cell_type": "code",
   "execution_count": 7,
   "id": "7d9ff591-0583-4f7b-87f6-c0c60f20d7d2",
   "metadata": {},
   "outputs": [],
   "source": [
    "# 상관관계 분석을 위한 라벨코드 컬럼 추가\n",
    "labelDict = {\"normal\" : 0,\n",
    "             \"diamond\" : 1,\n",
    "             \"vip\" : 2}"
   ]
  },
  {
   "cell_type": "code",
   "execution_count": 8,
   "id": "c4fdebbd-8217-49bc-a470-388a396ce454",
   "metadata": {},
   "outputs": [],
   "source": [
    "csData[\"labelCode\"] = csData.label.map(labelDict)"
   ]
  },
  {
   "cell_type": "code",
   "execution_count": 9,
   "id": "c839ea40-a931-403a-a1bf-535d5c8d5e69",
   "metadata": {},
   "outputs": [
    {
     "data": {
      "text/html": [
       "<div>\n",
       "<style scoped>\n",
       "    .dataframe tbody tr th:only-of-type {\n",
       "        vertical-align: middle;\n",
       "    }\n",
       "\n",
       "    .dataframe tbody tr th {\n",
       "        vertical-align: top;\n",
       "    }\n",
       "\n",
       "    .dataframe thead th {\n",
       "        text-align: right;\n",
       "    }\n",
       "</style>\n",
       "<table border=\"1\" class=\"dataframe\">\n",
       "  <thead>\n",
       "    <tr style=\"text-align: right;\">\n",
       "      <th></th>\n",
       "      <th>balance</th>\n",
       "      <th>stock</th>\n",
       "      <th>label</th>\n",
       "      <th>labelCode</th>\n",
       "    </tr>\n",
       "  </thead>\n",
       "  <tbody>\n",
       "    <tr>\n",
       "      <th>0</th>\n",
       "      <td>30000000</td>\n",
       "      <td>22500000</td>\n",
       "      <td>normal</td>\n",
       "      <td>0</td>\n",
       "    </tr>\n",
       "    <tr>\n",
       "      <th>1</th>\n",
       "      <td>280000000</td>\n",
       "      <td>48000000</td>\n",
       "      <td>diamond</td>\n",
       "      <td>1</td>\n",
       "    </tr>\n",
       "    <tr>\n",
       "      <th>2</th>\n",
       "      <td>300000000</td>\n",
       "      <td>40666666</td>\n",
       "      <td>diamond</td>\n",
       "      <td>1</td>\n",
       "    </tr>\n",
       "    <tr>\n",
       "      <th>3</th>\n",
       "      <td>54000000</td>\n",
       "      <td>28000000</td>\n",
       "      <td>normal</td>\n",
       "      <td>0</td>\n",
       "    </tr>\n",
       "    <tr>\n",
       "      <th>4</th>\n",
       "      <td>768000000</td>\n",
       "      <td>32000000</td>\n",
       "      <td>vip</td>\n",
       "      <td>2</td>\n",
       "    </tr>\n",
       "    <tr>\n",
       "      <th>...</th>\n",
       "      <td>...</td>\n",
       "      <td>...</td>\n",
       "      <td>...</td>\n",
       "      <td>...</td>\n",
       "    </tr>\n",
       "    <tr>\n",
       "      <th>19995</th>\n",
       "      <td>628000000</td>\n",
       "      <td>44666666</td>\n",
       "      <td>diamond</td>\n",
       "      <td>1</td>\n",
       "    </tr>\n",
       "    <tr>\n",
       "      <th>19996</th>\n",
       "      <td>276000000</td>\n",
       "      <td>20000000</td>\n",
       "      <td>normal</td>\n",
       "      <td>0</td>\n",
       "    </tr>\n",
       "    <tr>\n",
       "      <th>19997</th>\n",
       "      <td>652000000</td>\n",
       "      <td>41333333</td>\n",
       "      <td>diamond</td>\n",
       "      <td>1</td>\n",
       "    </tr>\n",
       "    <tr>\n",
       "      <th>19998</th>\n",
       "      <td>676000000</td>\n",
       "      <td>45333333</td>\n",
       "      <td>diamond</td>\n",
       "      <td>1</td>\n",
       "    </tr>\n",
       "    <tr>\n",
       "      <th>19999</th>\n",
       "      <td>732000000</td>\n",
       "      <td>26000000</td>\n",
       "      <td>diamond</td>\n",
       "      <td>1</td>\n",
       "    </tr>\n",
       "  </tbody>\n",
       "</table>\n",
       "<p>20000 rows × 4 columns</p>\n",
       "</div>"
      ],
      "text/plain": [
       "         balance     stock    label  labelCode\n",
       "0       30000000  22500000   normal          0\n",
       "1      280000000  48000000  diamond          1\n",
       "2      300000000  40666666  diamond          1\n",
       "3       54000000  28000000   normal          0\n",
       "4      768000000  32000000      vip          2\n",
       "...          ...       ...      ...        ...\n",
       "19995  628000000  44666666  diamond          1\n",
       "19996  276000000  20000000   normal          0\n",
       "19997  652000000  41333333  diamond          1\n",
       "19998  676000000  45333333  diamond          1\n",
       "19999  732000000  26000000  diamond          1\n",
       "\n",
       "[20000 rows x 4 columns]"
      ]
     },
     "execution_count": 9,
     "metadata": {},
     "output_type": "execute_result"
    }
   ],
   "source": [
    "csData"
   ]
  },
  {
   "cell_type": "markdown",
   "id": "bb0ae008-2b51-460d-a01e-037b1e5ec3ce",
   "metadata": {},
   "source": [
    "### 2. 특성 선정 / 데이터 분리"
   ]
  },
  {
   "cell_type": "markdown",
   "id": "8533176f-5471-4385-b12c-db51220f91e2",
   "metadata": {},
   "source": [
    "#### 2-1. 특성 선정"
   ]
  },
  {
   "cell_type": "code",
   "execution_count": 10,
   "id": "78670299-8a49-46fd-a130-744323003eed",
   "metadata": {},
   "outputs": [],
   "source": [
    "# minMaxNorm 정규화 (0 ~ 1 사이로 값 변경)\n",
    "### 최소최대정규화 공식\n",
    "### x' = (x - x_min) / (x_max - x_min)\n",
    "def minMaxNorm(indata) :\n",
    "    maxValue = max(indata)\n",
    "    minValue = min(indata)\n",
    "    deNormValue = maxValue - minValue\n",
    "    # 전체 양수로 변경\n",
    "    plusData = indata - minValue\n",
    "    # 최대값 기준 각 데이터 정규화\n",
    "    outData = indata\n",
    "    if deNormValue != 0 :\n",
    "        outData = plusData / deNormValue\n",
    "    else :\n",
    "        pass\n",
    "    return outData"
   ]
  },
  {
   "cell_type": "code",
   "execution_count": 11,
   "id": "db9fea55-bd9f-4cf1-8cd4-b89834b240d2",
   "metadata": {},
   "outputs": [],
   "source": [
    "csData[\"balance_norm\"] = minMaxNorm(csData.balance)\n",
    "csData[\"stock_norm\"] = minMaxNorm(csData.stock)"
   ]
  },
  {
   "cell_type": "code",
   "execution_count": 12,
   "id": "e4266dcc-0c5a-4eb4-8d92-7aa3b8dcee70",
   "metadata": {},
   "outputs": [
    {
     "data": {
      "text/html": [
       "<div>\n",
       "<style scoped>\n",
       "    .dataframe tbody tr th:only-of-type {\n",
       "        vertical-align: middle;\n",
       "    }\n",
       "\n",
       "    .dataframe tbody tr th {\n",
       "        vertical-align: top;\n",
       "    }\n",
       "\n",
       "    .dataframe thead th {\n",
       "        text-align: right;\n",
       "    }\n",
       "</style>\n",
       "<table border=\"1\" class=\"dataframe\">\n",
       "  <thead>\n",
       "    <tr style=\"text-align: right;\">\n",
       "      <th></th>\n",
       "      <th>balance</th>\n",
       "      <th>stock</th>\n",
       "      <th>label</th>\n",
       "      <th>labelCode</th>\n",
       "      <th>balance_norm</th>\n",
       "      <th>stock_norm</th>\n",
       "    </tr>\n",
       "  </thead>\n",
       "  <tbody>\n",
       "    <tr>\n",
       "      <th>0</th>\n",
       "      <td>30000000</td>\n",
       "      <td>22500000</td>\n",
       "      <td>normal</td>\n",
       "      <td>0</td>\n",
       "      <td>0.000000</td>\n",
       "      <td>0.080000</td>\n",
       "    </tr>\n",
       "    <tr>\n",
       "      <th>1</th>\n",
       "      <td>280000000</td>\n",
       "      <td>48000000</td>\n",
       "      <td>diamond</td>\n",
       "      <td>1</td>\n",
       "      <td>0.324675</td>\n",
       "      <td>0.488000</td>\n",
       "    </tr>\n",
       "    <tr>\n",
       "      <th>2</th>\n",
       "      <td>300000000</td>\n",
       "      <td>40666666</td>\n",
       "      <td>diamond</td>\n",
       "      <td>1</td>\n",
       "      <td>0.350649</td>\n",
       "      <td>0.370667</td>\n",
       "    </tr>\n",
       "    <tr>\n",
       "      <th>3</th>\n",
       "      <td>54000000</td>\n",
       "      <td>28000000</td>\n",
       "      <td>normal</td>\n",
       "      <td>0</td>\n",
       "      <td>0.031169</td>\n",
       "      <td>0.168000</td>\n",
       "    </tr>\n",
       "    <tr>\n",
       "      <th>4</th>\n",
       "      <td>768000000</td>\n",
       "      <td>32000000</td>\n",
       "      <td>vip</td>\n",
       "      <td>2</td>\n",
       "      <td>0.958442</td>\n",
       "      <td>0.232000</td>\n",
       "    </tr>\n",
       "    <tr>\n",
       "      <th>...</th>\n",
       "      <td>...</td>\n",
       "      <td>...</td>\n",
       "      <td>...</td>\n",
       "      <td>...</td>\n",
       "      <td>...</td>\n",
       "      <td>...</td>\n",
       "    </tr>\n",
       "    <tr>\n",
       "      <th>19995</th>\n",
       "      <td>628000000</td>\n",
       "      <td>44666666</td>\n",
       "      <td>diamond</td>\n",
       "      <td>1</td>\n",
       "      <td>0.776623</td>\n",
       "      <td>0.434667</td>\n",
       "    </tr>\n",
       "    <tr>\n",
       "      <th>19996</th>\n",
       "      <td>276000000</td>\n",
       "      <td>20000000</td>\n",
       "      <td>normal</td>\n",
       "      <td>0</td>\n",
       "      <td>0.319481</td>\n",
       "      <td>0.040000</td>\n",
       "    </tr>\n",
       "    <tr>\n",
       "      <th>19997</th>\n",
       "      <td>652000000</td>\n",
       "      <td>41333333</td>\n",
       "      <td>diamond</td>\n",
       "      <td>1</td>\n",
       "      <td>0.807792</td>\n",
       "      <td>0.381333</td>\n",
       "    </tr>\n",
       "    <tr>\n",
       "      <th>19998</th>\n",
       "      <td>676000000</td>\n",
       "      <td>45333333</td>\n",
       "      <td>diamond</td>\n",
       "      <td>1</td>\n",
       "      <td>0.838961</td>\n",
       "      <td>0.445333</td>\n",
       "    </tr>\n",
       "    <tr>\n",
       "      <th>19999</th>\n",
       "      <td>732000000</td>\n",
       "      <td>26000000</td>\n",
       "      <td>diamond</td>\n",
       "      <td>1</td>\n",
       "      <td>0.911688</td>\n",
       "      <td>0.136000</td>\n",
       "    </tr>\n",
       "  </tbody>\n",
       "</table>\n",
       "<p>20000 rows × 6 columns</p>\n",
       "</div>"
      ],
      "text/plain": [
       "         balance     stock    label  labelCode  balance_norm  stock_norm\n",
       "0       30000000  22500000   normal          0      0.000000    0.080000\n",
       "1      280000000  48000000  diamond          1      0.324675    0.488000\n",
       "2      300000000  40666666  diamond          1      0.350649    0.370667\n",
       "3       54000000  28000000   normal          0      0.031169    0.168000\n",
       "4      768000000  32000000      vip          2      0.958442    0.232000\n",
       "...          ...       ...      ...        ...           ...         ...\n",
       "19995  628000000  44666666  diamond          1      0.776623    0.434667\n",
       "19996  276000000  20000000   normal          0      0.319481    0.040000\n",
       "19997  652000000  41333333  diamond          1      0.807792    0.381333\n",
       "19998  676000000  45333333  diamond          1      0.838961    0.445333\n",
       "19999  732000000  26000000  diamond          1      0.911688    0.136000\n",
       "\n",
       "[20000 rows x 6 columns]"
      ]
     },
     "execution_count": 12,
     "metadata": {},
     "output_type": "execute_result"
    }
   ],
   "source": [
    "csData"
   ]
  },
  {
   "cell_type": "code",
   "execution_count": 25,
   "id": "ab606961-b270-4d42-a424-966a7de07fd4",
   "metadata": {},
   "outputs": [
    {
     "data": {
      "text/html": [
       "<div>\n",
       "<style scoped>\n",
       "    .dataframe tbody tr th:only-of-type {\n",
       "        vertical-align: middle;\n",
       "    }\n",
       "\n",
       "    .dataframe tbody tr th {\n",
       "        vertical-align: top;\n",
       "    }\n",
       "\n",
       "    .dataframe thead th {\n",
       "        text-align: right;\n",
       "    }\n",
       "</style>\n",
       "<table border=\"1\" class=\"dataframe\">\n",
       "  <thead>\n",
       "    <tr style=\"text-align: right;\">\n",
       "      <th></th>\n",
       "      <th>balance</th>\n",
       "      <th>stock</th>\n",
       "      <th>labelCode</th>\n",
       "      <th>balance_norm</th>\n",
       "      <th>stock_norm</th>\n",
       "    </tr>\n",
       "  </thead>\n",
       "  <tbody>\n",
       "    <tr>\n",
       "      <th>balance</th>\n",
       "      <td>1.000000</td>\n",
       "      <td>0.565942</td>\n",
       "      <td>0.883144</td>\n",
       "      <td>1.000000</td>\n",
       "      <td>0.565942</td>\n",
       "    </tr>\n",
       "    <tr>\n",
       "      <th>stock</th>\n",
       "      <td>0.565942</td>\n",
       "      <td>1.000000</td>\n",
       "      <td>0.824174</td>\n",
       "      <td>0.565942</td>\n",
       "      <td>1.000000</td>\n",
       "    </tr>\n",
       "    <tr>\n",
       "      <th>labelCode</th>\n",
       "      <td>0.883144</td>\n",
       "      <td>0.824174</td>\n",
       "      <td>1.000000</td>\n",
       "      <td>0.883144</td>\n",
       "      <td>0.824174</td>\n",
       "    </tr>\n",
       "    <tr>\n",
       "      <th>balance_norm</th>\n",
       "      <td>1.000000</td>\n",
       "      <td>0.565942</td>\n",
       "      <td>0.883144</td>\n",
       "      <td>1.000000</td>\n",
       "      <td>0.565942</td>\n",
       "    </tr>\n",
       "    <tr>\n",
       "      <th>stock_norm</th>\n",
       "      <td>0.565942</td>\n",
       "      <td>1.000000</td>\n",
       "      <td>0.824174</td>\n",
       "      <td>0.565942</td>\n",
       "      <td>1.000000</td>\n",
       "    </tr>\n",
       "  </tbody>\n",
       "</table>\n",
       "</div>"
      ],
      "text/plain": [
       "               balance     stock  labelCode  balance_norm  stock_norm\n",
       "balance       1.000000  0.565942   0.883144      1.000000    0.565942\n",
       "stock         0.565942  1.000000   0.824174      0.565942    1.000000\n",
       "labelCode     0.883144  0.824174   1.000000      0.883144    0.824174\n",
       "balance_norm  1.000000  0.565942   0.883144      1.000000    0.565942\n",
       "stock_norm    0.565942  1.000000   0.824174      0.565942    1.000000"
      ]
     },
     "execution_count": 25,
     "metadata": {},
     "output_type": "execute_result"
    }
   ],
   "source": [
    "csData.corr()"
   ]
  },
  {
   "cell_type": "markdown",
   "id": "bb4a0179-031f-401c-a036-84883965a048",
   "metadata": {},
   "source": [
    "#### 2-2. 데이터 분리"
   ]
  },
  {
   "cell_type": "code",
   "execution_count": 44,
   "id": "062db6e6-bd5a-4354-aec6-da10c81b6812",
   "metadata": {},
   "outputs": [],
   "source": [
    "# features, label 컬럼 설정\n",
    "features = [\"balance_norm\", \"stock_norm\"]\n",
    "# label = [\"labelCode\"]\n",
    "label = [\"label\"]"
   ]
  },
  {
   "cell_type": "code",
   "execution_count": 45,
   "id": "de0aad21-d6ed-455b-9d19-43d118276685",
   "metadata": {},
   "outputs": [],
   "source": [
    "# features 데이터, label 데이터 분리\n",
    "featuresData = csData.loc[:, features]\n",
    "lableData = csData.loc[:, label]"
   ]
  },
  {
   "cell_type": "code",
   "execution_count": 46,
   "id": "90daa5ba-5d4f-413d-a0d9-eb4f7a3599a6",
   "metadata": {},
   "outputs": [],
   "source": [
    "# train_test_split 함수를 활용해 feature, label 데이터 분리 ( 7 : 3 )\n",
    "trainingData_features,\\\n",
    "testData_features,\\\n",
    "trainingData_label,\\\n",
    "testData_label = \\\n",
    "                train_test_split(featuresData, lableData, test_size = 0.3,\n",
    "                                 random_state = 1)"
   ]
  },
  {
   "cell_type": "code",
   "execution_count": 47,
   "id": "104c61b2-fe68-4306-bf9d-41f1cc314ade",
   "metadata": {},
   "outputs": [
    {
     "name": "stdout",
     "output_type": "stream",
     "text": [
      "(14000, 2)\n",
      "(6000, 2)\n",
      "(14000, 1)\n",
      "(6000, 1)\n"
     ]
    }
   ],
   "source": [
    "print(trainingData_features.shape)\n",
    "print(testData_features.shape)\n",
    "print(trainingData_label.shape)\n",
    "print(testData_label.shape)"
   ]
  },
  {
   "cell_type": "markdown",
   "id": "426bcee6-0d25-4764-9c45-5e74c2892be0",
   "metadata": {},
   "source": [
    "### 3. 모델 선언 및 학습"
   ]
  },
  {
   "cell_type": "code",
   "execution_count": 48,
   "id": "0adf4919-6516-4bfe-839c-6455b1a5a937",
   "metadata": {},
   "outputs": [],
   "source": [
    "# 모델 정의\n",
    "modelMethod = svm.SVC(random_state = 1)"
   ]
  },
  {
   "cell_type": "code",
   "execution_count": 49,
   "id": "eef614ca-1780-4d84-95e7-0a0736b4e61d",
   "metadata": {},
   "outputs": [
    {
     "name": "stderr",
     "output_type": "stream",
     "text": [
      "C:\\Users\\AnJungHoon\\anaconda3\\lib\\site-packages\\sklearn\\utils\\validation.py:993: DataConversionWarning: A column-vector y was passed when a 1d array was expected. Please change the shape of y to (n_samples, ), for example using ravel().\n",
      "  y = column_or_1d(y, warn=True)\n"
     ]
    }
   ],
   "source": [
    "# 머신러닝(훈련데이터 특성 / 답지)\n",
    "model_SVM = modelMethod.fit(trainingData_features, trainingData_label)"
   ]
  },
  {
   "cell_type": "markdown",
   "id": "b941d1fd-52d7-4426-ad30-a331273c4920",
   "metadata": {},
   "source": [
    "### 4. 모델 예측"
   ]
  },
  {
   "cell_type": "code",
   "execution_count": 50,
   "id": "55cd1b1b-9a7a-4bb8-961e-2fe1b3799e84",
   "metadata": {},
   "outputs": [
    {
     "data": {
      "text/plain": [
       "array(['diamond', 'diamond', 'diamond', ..., 'diamond', 'vip', 'diamond'],\n",
       "      dtype=object)"
      ]
     },
     "execution_count": 50,
     "metadata": {},
     "output_type": "execute_result"
    }
   ],
   "source": [
    "# 예측\n",
    "predict = model_SVM.predict(testData_features)\n",
    "predict"
   ]
  },
  {
   "cell_type": "markdown",
   "id": "56c42b07-e962-49d7-bc17-450abdc56659",
   "metadata": {},
   "source": [
    "### 5. 데이터 정리"
   ]
  },
  {
   "cell_type": "code",
   "execution_count": 51,
   "id": "8c1a5ee3-d1a7-49d6-96c4-d8f66930eff0",
   "metadata": {},
   "outputs": [],
   "source": [
    "# 예측결과를 데이터프레임으로 변환\n",
    "predictData = pd.DataFrame(predict, columns=[\"PREDICT\"])"
   ]
  },
  {
   "cell_type": "code",
   "execution_count": 52,
   "id": "4e09bce4-a301-4196-bfac-0ee6fe90663f",
   "metadata": {},
   "outputs": [],
   "source": [
    "# 테스트데이터 정답지 인덱스 초기화\n",
    "testData_label.reset_index(drop=True, inplace=True)"
   ]
  },
  {
   "cell_type": "code",
   "execution_count": 53,
   "id": "0cc28729-fcfc-46ed-baf3-9478fc6523ff",
   "metadata": {},
   "outputs": [],
   "source": [
    "# 예측결과 / 정답지 병합\n",
    "finalResult = pd.concat( [testData_label, predictData], axis = 1)"
   ]
  },
  {
   "cell_type": "code",
   "execution_count": 54,
   "id": "19d395de-f0ff-486e-9667-34431b303244",
   "metadata": {},
   "outputs": [
    {
     "data": {
      "text/html": [
       "<div>\n",
       "<style scoped>\n",
       "    .dataframe tbody tr th:only-of-type {\n",
       "        vertical-align: middle;\n",
       "    }\n",
       "\n",
       "    .dataframe tbody tr th {\n",
       "        vertical-align: top;\n",
       "    }\n",
       "\n",
       "    .dataframe thead th {\n",
       "        text-align: right;\n",
       "    }\n",
       "</style>\n",
       "<table border=\"1\" class=\"dataframe\">\n",
       "  <thead>\n",
       "    <tr style=\"text-align: right;\">\n",
       "      <th></th>\n",
       "      <th>label</th>\n",
       "      <th>PREDICT</th>\n",
       "    </tr>\n",
       "  </thead>\n",
       "  <tbody>\n",
       "    <tr>\n",
       "      <th>0</th>\n",
       "      <td>diamond</td>\n",
       "      <td>diamond</td>\n",
       "    </tr>\n",
       "    <tr>\n",
       "      <th>1</th>\n",
       "      <td>diamond</td>\n",
       "      <td>diamond</td>\n",
       "    </tr>\n",
       "    <tr>\n",
       "      <th>2</th>\n",
       "      <td>diamond</td>\n",
       "      <td>diamond</td>\n",
       "    </tr>\n",
       "    <tr>\n",
       "      <th>3</th>\n",
       "      <td>normal</td>\n",
       "      <td>normal</td>\n",
       "    </tr>\n",
       "    <tr>\n",
       "      <th>4</th>\n",
       "      <td>normal</td>\n",
       "      <td>normal</td>\n",
       "    </tr>\n",
       "    <tr>\n",
       "      <th>...</th>\n",
       "      <td>...</td>\n",
       "      <td>...</td>\n",
       "    </tr>\n",
       "    <tr>\n",
       "      <th>5995</th>\n",
       "      <td>diamond</td>\n",
       "      <td>diamond</td>\n",
       "    </tr>\n",
       "    <tr>\n",
       "      <th>5996</th>\n",
       "      <td>diamond</td>\n",
       "      <td>diamond</td>\n",
       "    </tr>\n",
       "    <tr>\n",
       "      <th>5997</th>\n",
       "      <td>diamond</td>\n",
       "      <td>diamond</td>\n",
       "    </tr>\n",
       "    <tr>\n",
       "      <th>5998</th>\n",
       "      <td>vip</td>\n",
       "      <td>vip</td>\n",
       "    </tr>\n",
       "    <tr>\n",
       "      <th>5999</th>\n",
       "      <td>diamond</td>\n",
       "      <td>diamond</td>\n",
       "    </tr>\n",
       "  </tbody>\n",
       "</table>\n",
       "<p>6000 rows × 2 columns</p>\n",
       "</div>"
      ],
      "text/plain": [
       "        label  PREDICT\n",
       "0     diamond  diamond\n",
       "1     diamond  diamond\n",
       "2     diamond  diamond\n",
       "3      normal   normal\n",
       "4      normal   normal\n",
       "...       ...      ...\n",
       "5995  diamond  diamond\n",
       "5996  diamond  diamond\n",
       "5997  diamond  diamond\n",
       "5998      vip      vip\n",
       "5999  diamond  diamond\n",
       "\n",
       "[6000 rows x 2 columns]"
      ]
     },
     "execution_count": 54,
     "metadata": {},
     "output_type": "execute_result"
    }
   ],
   "source": [
    "finalResult"
   ]
  },
  {
   "cell_type": "markdown",
   "id": "2c726e01-1eed-48c8-89b9-f0e7c6463b61",
   "metadata": {},
   "source": [
    "### 6. 결과 검증"
   ]
  },
  {
   "cell_type": "code",
   "execution_count": 55,
   "id": "36c94cf8-5452-4ac3-8afe-6050844a611c",
   "metadata": {},
   "outputs": [],
   "source": [
    "# 결과 테스트 하기\n",
    "ac_score = accuracy_score(testData_label, predict)\n",
    "cl_report = classification_report(testData_label, predict)"
   ]
  },
  {
   "cell_type": "code",
   "execution_count": 56,
   "id": "7fa065a1-5a01-485f-a036-63153c4335ec",
   "metadata": {},
   "outputs": [
    {
     "name": "stdout",
     "output_type": "stream",
     "text": [
      "Accuracy =  0.9953333333333333\n",
      "result = \n",
      "               precision    recall  f1-score   support\n",
      "\n",
      "     diamond       1.00      1.00      1.00      3483\n",
      "      normal       0.99      0.99      0.99      1803\n",
      "         vip       0.99      0.99      0.99       714\n",
      "\n",
      "    accuracy                           1.00      6000\n",
      "   macro avg       1.00      0.99      0.99      6000\n",
      "weighted avg       1.00      1.00      1.00      6000\n",
      "\n"
     ]
    }
   ],
   "source": [
    "# 결과 리포트 하기\n",
    "### accuracy : 정확도\n",
    "### precision : 정밀도 (ex. 사과라고 분류기가 예측한 결과중에 분류기가 맞춘 비율\n",
    "### recall : 재현율 (ex. 원래 사과들중에 사과라고 분류기가 맞춘 비율)\n",
    "### f1-score : precision 과 recall의 조화평균\n",
    "\n",
    "print(\"Accuracy = \", ac_score)\n",
    "print(\"result = \\n\", cl_report)"
   ]
  },
  {
   "cell_type": "code",
   "execution_count": null,
   "id": "2ca1b6b7-f470-400c-a243-f12ef52576c4",
   "metadata": {},
   "outputs": [],
   "source": []
  },
  {
   "cell_type": "code",
   "execution_count": null,
   "id": "f293fb2f-4ba5-421b-9c2b-2a6048f1c375",
   "metadata": {},
   "outputs": [],
   "source": []
  }
 ],
 "metadata": {
  "kernelspec": {
   "display_name": "Python 3 (ipykernel)",
   "language": "python",
   "name": "python3"
  },
  "language_info": {
   "codemirror_mode": {
    "name": "ipython",
    "version": 3
   },
   "file_extension": ".py",
   "mimetype": "text/x-python",
   "name": "python",
   "nbconvert_exporter": "python",
   "pygments_lexer": "ipython3",
   "version": "3.9.12"
  }
 },
 "nbformat": 4,
 "nbformat_minor": 5
}
