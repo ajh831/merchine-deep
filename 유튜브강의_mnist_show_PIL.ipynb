{
 "cells": [
  {
   "cell_type": "markdown",
   "id": "7aa07f0c-0454-410b-9606-56b279d57f36",
   "metadata": {},
   "source": [
    "# mnist data Image 보여주기_PIL"
   ]
  },
  {
   "cell_type": "code",
   "execution_count": 34,
   "id": "220cbdfb-b007-46fd-a1d7-e9d551cd6ffa",
   "metadata": {},
   "outputs": [],
   "source": [
    "import sys, os\n",
    "# sys.path.append(os.pardir) : 부모 디렉터리의 파일을 가져올 수 있도록 설정\n",
    "# sys.path : 파일을 불러올 때 sys.path에 등록되어있는 경로만 뒤져서 파일을 찾아옴\n",
    "# append : 리스트를 추가할 때 사용하는 매서드\n",
    "# os.pardir : 상위 폴더\n",
    "# cf) os.getcwd() : 현재 작업하고 있는 디렉토리 위치를 보여줌(= pwd)\n",
    "sys.path.append(\"./dataset\") # 이때, dataset 폴더는 실행하는 py 파일의 경로와 일치해야 한다.\n",
    "import numpy as np\n",
    "from dataset.mnist import load_mnist\n",
    "\n",
    "# 이미지 처리를 해주는 라이브러리\n",
    "from PIL import Image"
   ]
  },
  {
   "cell_type": "code",
   "execution_count": 35,
   "id": "89f9d57c-16bb-4e4e-8c3f-14f99ba45ebc",
   "metadata": {},
   "outputs": [],
   "source": [
    "# 이미지를 보여주는 함수 정의\n",
    "# fromarray : 행렬을 눈에보이는 이미지로 바꿔주는 것\n",
    "# uint8 : 0~255(총 256개_2^8)\n",
    "def img_show(img) :\n",
    "    pil_img = Image.fromarray(np.uint8(img))\n",
    "    pil_img.show()"
   ]
  },
  {
   "cell_type": "code",
   "execution_count": 36,
   "id": "cd7a7ede-6542-420b-a63b-23c7cff17d86",
   "metadata": {},
   "outputs": [],
   "source": [
    "# x : 이미지, t : label\n",
    "# train : 훈련용 데이터(60000장,해상도 28x28), test : 테스트용 데이터\n",
    "# flatten : True로 할 경우 원래 60000X28X28 => 60000X784의 행렬로 변환됨\n",
    "# normalize : 밝기를 0~1까지로 만들어 주는 것\n",
    "(x_train, t_train), (x_test, t_test) = load_mnist(flatten=True, normalize=False)"
   ]
  },
  {
   "cell_type": "code",
   "execution_count": 37,
   "id": "db3f15fb-1596-46f5-885e-c3b6ba595930",
   "metadata": {},
   "outputs": [
    {
     "name": "stdout",
     "output_type": "stream",
     "text": [
      "5\n"
     ]
    }
   ],
   "source": [
    "img = x_train[0]\n",
    "label = t_train[0]\n",
    "print(label) # 5"
   ]
  },
  {
   "cell_type": "code",
   "execution_count": 38,
   "id": "8868dd18-4848-4ca8-8058-79b062a3aaa3",
   "metadata": {},
   "outputs": [
    {
     "name": "stdout",
     "output_type": "stream",
     "text": [
      "(784,)\n"
     ]
    }
   ],
   "source": [
    "print(img.shape) # (784,)"
   ]
  },
  {
   "cell_type": "code",
   "execution_count": 39,
   "id": "3e465185-65cf-4ae2-8752-f0044ca5971b",
   "metadata": {},
   "outputs": [],
   "source": [
    "img = img.reshape(28, 28) # 형상을 원래 이미지의 크기로 변형"
   ]
  },
  {
   "cell_type": "code",
   "execution_count": 40,
   "id": "856b798e-0c4c-45fd-a24c-f6d971287490",
   "metadata": {},
   "outputs": [
    {
     "name": "stdout",
     "output_type": "stream",
     "text": [
      "(28, 28)\n"
     ]
    }
   ],
   "source": [
    "print(img.shape) # (28,28)"
   ]
  },
  {
   "cell_type": "code",
   "execution_count": 41,
   "id": "cd93fe2a-9787-4b6b-ba65-0359ca922614",
   "metadata": {},
   "outputs": [],
   "source": [
    "img_show(img)"
   ]
  },
  {
   "cell_type": "code",
   "execution_count": 42,
   "id": "5a5a975e-e440-4fe5-bd85-96e2ec56c075",
   "metadata": {},
   "outputs": [],
   "source": [
    "img_show(255-img)"
   ]
  },
  {
   "cell_type": "markdown",
   "id": "f5276f18-c940-4486-ab9d-2f5fee1b2351",
   "metadata": {},
   "source": [
    "### flatten=True를 왜 할까?"
   ]
  },
  {
   "cell_type": "markdown",
   "id": "d8212f8f-9157-4397-8f0d-6c4997f23c47",
   "metadata": {},
   "source": [
    "안해주게 된다면 행렬이 아니라 3차원 텐서 그대로 나타나기 때문에 에러가 발생하게 됨\n",
    "flatten을 안하고 실행하고 싶다면 [0]을 한 번 덧씌워주면 됨 -> 브레킷(?)이 날아감"
   ]
  },
  {
   "cell_type": "code",
   "execution_count": 31,
   "id": "9ecdef99-826a-46f5-8981-dc362d890789",
   "metadata": {},
   "outputs": [],
   "source": [
    "(x_train, t_train), (x_test, t_test) = load_mnist(flatten=False, normalize=False)"
   ]
  },
  {
   "cell_type": "code",
   "execution_count": 32,
   "id": "3bc35c29-50ea-4d50-8fd0-529b5e043b6c",
   "metadata": {},
   "outputs": [
    {
     "name": "stdout",
     "output_type": "stream",
     "text": [
      "5\n"
     ]
    }
   ],
   "source": [
    "img = x_train[0]\n",
    "label = t_train[0]\n",
    "print(label) # 5"
   ]
  },
  {
   "cell_type": "code",
   "execution_count": 33,
   "id": "8fccb27a-db49-4456-8ec0-d5f488bce2ae",
   "metadata": {},
   "outputs": [],
   "source": [
    "img_show(img[0])"
   ]
  },
  {
   "cell_type": "code",
   "execution_count": null,
   "id": "0d8083e8-458f-486a-a837-90aeb88c2115",
   "metadata": {},
   "outputs": [],
   "source": []
  }
 ],
 "metadata": {
  "kernelspec": {
   "display_name": "Python 3 (ipykernel)",
   "language": "python",
   "name": "python3"
  },
  "language_info": {
   "codemirror_mode": {
    "name": "ipython",
    "version": 3
   },
   "file_extension": ".py",
   "mimetype": "text/x-python",
   "name": "python",
   "nbconvert_exporter": "python",
   "pygments_lexer": "ipython3",
   "version": "3.9.12"
  }
 },
 "nbformat": 4,
 "nbformat_minor": 5
}
