{
 "cells": [
  {
   "cell_type": "markdown",
   "id": "7f5dc8e3-25b2-41a2-b4e1-c51158489578",
   "metadata": {},
   "source": [
    "### 라이브러리 불러오기"
   ]
  },
  {
   "cell_type": "code",
   "execution_count": 2,
   "id": "98c060cc-f200-47c8-9536-ab5d4dafd551",
   "metadata": {},
   "outputs": [],
   "source": [
    "import pandas as pd\n",
    "import numpy as np"
   ]
  },
  {
   "cell_type": "code",
   "execution_count": 5,
   "id": "7c315df5-3d48-4c29-a2d4-b3d45919da9e",
   "metadata": {},
   "outputs": [],
   "source": [
    "# 모델 라이브러리 선언\n",
    "from sklearn import datasets, tree\n",
    "\n",
    "# 분석 모델\n",
    "from sklearn.tree import DecisionTreeClassifier\n",
    "\n",
    "# 훈련/테스트 데이터 자동 분리\n",
    "from sklearn.model_selection import train_test_split\n",
    "\n",
    "# 모델 정확도 라이브러리 선언\n",
    "from sklearn.metrics import mean_squared_error\n",
    "from sklearn.metrics import mean_absolute_error\n",
    "from sklearn.metrics import accuracy_score\n",
    "from sklearn.metrics import classification_report"
   ]
  },
  {
   "cell_type": "markdown",
   "id": "06105d4b-644f-4b4e-ad9d-a263c280988c",
   "metadata": {},
   "source": [
    "### 데이터 불러오기"
   ]
  },
  {
   "cell_type": "code",
   "execution_count": 6,
   "id": "b6d49e03-0476-4aeb-b3b1-14c99484a2b2",
   "metadata": {},
   "outputs": [
    {
     "data": {
      "text/html": [
       "<div>\n",
       "<style scoped>\n",
       "    .dataframe tbody tr th:only-of-type {\n",
       "        vertical-align: middle;\n",
       "    }\n",
       "\n",
       "    .dataframe tbody tr th {\n",
       "        vertical-align: top;\n",
       "    }\n",
       "\n",
       "    .dataframe thead th {\n",
       "        text-align: right;\n",
       "    }\n",
       "</style>\n",
       "<table border=\"1\" class=\"dataframe\">\n",
       "  <thead>\n",
       "    <tr style=\"text-align: right;\">\n",
       "      <th></th>\n",
       "      <th>balance</th>\n",
       "      <th>stock</th>\n",
       "      <th>label</th>\n",
       "    </tr>\n",
       "  </thead>\n",
       "  <tbody>\n",
       "    <tr>\n",
       "      <th>0</th>\n",
       "      <td>30000000</td>\n",
       "      <td>22500000</td>\n",
       "      <td>normal</td>\n",
       "    </tr>\n",
       "    <tr>\n",
       "      <th>1</th>\n",
       "      <td>280000000</td>\n",
       "      <td>48000000</td>\n",
       "      <td>diamond</td>\n",
       "    </tr>\n",
       "    <tr>\n",
       "      <th>2</th>\n",
       "      <td>300000000</td>\n",
       "      <td>40666666</td>\n",
       "      <td>diamond</td>\n",
       "    </tr>\n",
       "    <tr>\n",
       "      <th>3</th>\n",
       "      <td>54000000</td>\n",
       "      <td>28000000</td>\n",
       "      <td>normal</td>\n",
       "    </tr>\n",
       "    <tr>\n",
       "      <th>4</th>\n",
       "      <td>768000000</td>\n",
       "      <td>32000000</td>\n",
       "      <td>vip</td>\n",
       "    </tr>\n",
       "  </tbody>\n",
       "</table>\n",
       "</div>"
      ],
      "text/plain": [
       "     balance     stock    label\n",
       "0   30000000  22500000   normal\n",
       "1  280000000  48000000  diamond\n",
       "2  300000000  40666666  diamond\n",
       "3   54000000  28000000   normal\n",
       "4  768000000  32000000      vip"
      ]
     },
     "execution_count": 6,
     "metadata": {},
     "output_type": "execute_result"
    }
   ],
   "source": [
    "csData = pd.read_csv(\"https://raw.githubusercontent.com/hyokwan/python-lecture/master/dataset/customer.csv\")\n",
    "csData.head()"
   ]
  },
  {
   "cell_type": "markdown",
   "id": "3b8e3958-3187-4d5c-a3b2-b436f6ba3fbe",
   "metadata": {},
   "source": [
    "### 1. 타입통합 / 특정 숫자 컬럼 추가"
   ]
  },
  {
   "cell_type": "code",
   "execution_count": 9,
   "id": "24062c2d-2144-4f54-8a14-a16f3d50db04",
   "metadata": {},
   "outputs": [
    {
     "data": {
      "text/plain": [
       "0     normal\n",
       "1    diamond\n",
       "4        vip\n",
       "Name: label, dtype: object"
      ]
     },
     "execution_count": 9,
     "metadata": {},
     "output_type": "execute_result"
    }
   ],
   "source": [
    "# 라벨 유형 확인\n",
    "labels = csData.label.drop_duplicates()\n",
    "labels"
   ]
  },
  {
   "cell_type": "code",
   "execution_count": 10,
   "id": "b801f530-8596-4f5f-80c7-3a18aface3c7",
   "metadata": {},
   "outputs": [],
   "source": [
    "# 상관관계 분석을 위한 라벨코드 컬럼 추가\n",
    "labelDict = {\"normal\":0,\n",
    "             \"diamond\":1,\n",
    "             \"vip\":2}"
   ]
  },
  {
   "cell_type": "code",
   "execution_count": 11,
   "id": "f455e835-72d4-41e7-85bd-bfd081464163",
   "metadata": {},
   "outputs": [],
   "source": [
    "csData[\"labelCode\"] = csData.label.map(labelDict)"
   ]
  },
  {
   "cell_type": "code",
   "execution_count": 12,
   "id": "24dad117-01bb-4fa5-82b0-601b4839586b",
   "metadata": {},
   "outputs": [
    {
     "data": {
      "text/html": [
       "<div>\n",
       "<style scoped>\n",
       "    .dataframe tbody tr th:only-of-type {\n",
       "        vertical-align: middle;\n",
       "    }\n",
       "\n",
       "    .dataframe tbody tr th {\n",
       "        vertical-align: top;\n",
       "    }\n",
       "\n",
       "    .dataframe thead th {\n",
       "        text-align: right;\n",
       "    }\n",
       "</style>\n",
       "<table border=\"1\" class=\"dataframe\">\n",
       "  <thead>\n",
       "    <tr style=\"text-align: right;\">\n",
       "      <th></th>\n",
       "      <th>balance</th>\n",
       "      <th>stock</th>\n",
       "      <th>label</th>\n",
       "      <th>labelCode</th>\n",
       "    </tr>\n",
       "  </thead>\n",
       "  <tbody>\n",
       "    <tr>\n",
       "      <th>0</th>\n",
       "      <td>30000000</td>\n",
       "      <td>22500000</td>\n",
       "      <td>normal</td>\n",
       "      <td>0</td>\n",
       "    </tr>\n",
       "    <tr>\n",
       "      <th>1</th>\n",
       "      <td>280000000</td>\n",
       "      <td>48000000</td>\n",
       "      <td>diamond</td>\n",
       "      <td>1</td>\n",
       "    </tr>\n",
       "    <tr>\n",
       "      <th>2</th>\n",
       "      <td>300000000</td>\n",
       "      <td>40666666</td>\n",
       "      <td>diamond</td>\n",
       "      <td>1</td>\n",
       "    </tr>\n",
       "    <tr>\n",
       "      <th>3</th>\n",
       "      <td>54000000</td>\n",
       "      <td>28000000</td>\n",
       "      <td>normal</td>\n",
       "      <td>0</td>\n",
       "    </tr>\n",
       "    <tr>\n",
       "      <th>4</th>\n",
       "      <td>768000000</td>\n",
       "      <td>32000000</td>\n",
       "      <td>vip</td>\n",
       "      <td>2</td>\n",
       "    </tr>\n",
       "    <tr>\n",
       "      <th>...</th>\n",
       "      <td>...</td>\n",
       "      <td>...</td>\n",
       "      <td>...</td>\n",
       "      <td>...</td>\n",
       "    </tr>\n",
       "    <tr>\n",
       "      <th>19995</th>\n",
       "      <td>628000000</td>\n",
       "      <td>44666666</td>\n",
       "      <td>diamond</td>\n",
       "      <td>1</td>\n",
       "    </tr>\n",
       "    <tr>\n",
       "      <th>19996</th>\n",
       "      <td>276000000</td>\n",
       "      <td>20000000</td>\n",
       "      <td>normal</td>\n",
       "      <td>0</td>\n",
       "    </tr>\n",
       "    <tr>\n",
       "      <th>19997</th>\n",
       "      <td>652000000</td>\n",
       "      <td>41333333</td>\n",
       "      <td>diamond</td>\n",
       "      <td>1</td>\n",
       "    </tr>\n",
       "    <tr>\n",
       "      <th>19998</th>\n",
       "      <td>676000000</td>\n",
       "      <td>45333333</td>\n",
       "      <td>diamond</td>\n",
       "      <td>1</td>\n",
       "    </tr>\n",
       "    <tr>\n",
       "      <th>19999</th>\n",
       "      <td>732000000</td>\n",
       "      <td>26000000</td>\n",
       "      <td>diamond</td>\n",
       "      <td>1</td>\n",
       "    </tr>\n",
       "  </tbody>\n",
       "</table>\n",
       "<p>20000 rows × 4 columns</p>\n",
       "</div>"
      ],
      "text/plain": [
       "         balance     stock    label  labelCode\n",
       "0       30000000  22500000   normal          0\n",
       "1      280000000  48000000  diamond          1\n",
       "2      300000000  40666666  diamond          1\n",
       "3       54000000  28000000   normal          0\n",
       "4      768000000  32000000      vip          2\n",
       "...          ...       ...      ...        ...\n",
       "19995  628000000  44666666  diamond          1\n",
       "19996  276000000  20000000   normal          0\n",
       "19997  652000000  41333333  diamond          1\n",
       "19998  676000000  45333333  diamond          1\n",
       "19999  732000000  26000000  diamond          1\n",
       "\n",
       "[20000 rows x 4 columns]"
      ]
     },
     "execution_count": 12,
     "metadata": {},
     "output_type": "execute_result"
    }
   ],
   "source": [
    "csData"
   ]
  },
  {
   "cell_type": "markdown",
   "id": "93c6c51f-bbb1-4e8d-a65b-1a18b18fd1f9",
   "metadata": {},
   "source": [
    "### 2. 특성 선정 / 데이터 분리"
   ]
  },
  {
   "cell_type": "markdown",
   "id": "8bef0230-b537-4937-8aa0-f11ac60875e4",
   "metadata": {},
   "source": [
    "#### 2-1. 특성 선정"
   ]
  },
  {
   "cell_type": "code",
   "execution_count": 15,
   "id": "473ffa88-4302-48ab-9f8b-a2e92f181b17",
   "metadata": {},
   "outputs": [
    {
     "data": {
      "text/html": [
       "<div>\n",
       "<style scoped>\n",
       "    .dataframe tbody tr th:only-of-type {\n",
       "        vertical-align: middle;\n",
       "    }\n",
       "\n",
       "    .dataframe tbody tr th {\n",
       "        vertical-align: top;\n",
       "    }\n",
       "\n",
       "    .dataframe thead th {\n",
       "        text-align: right;\n",
       "    }\n",
       "</style>\n",
       "<table border=\"1\" class=\"dataframe\">\n",
       "  <thead>\n",
       "    <tr style=\"text-align: right;\">\n",
       "      <th></th>\n",
       "      <th>balance</th>\n",
       "      <th>stock</th>\n",
       "      <th>labelCode</th>\n",
       "    </tr>\n",
       "  </thead>\n",
       "  <tbody>\n",
       "    <tr>\n",
       "      <th>balance</th>\n",
       "      <td>1.000000</td>\n",
       "      <td>0.565942</td>\n",
       "      <td>0.883144</td>\n",
       "    </tr>\n",
       "    <tr>\n",
       "      <th>stock</th>\n",
       "      <td>0.565942</td>\n",
       "      <td>1.000000</td>\n",
       "      <td>0.824174</td>\n",
       "    </tr>\n",
       "    <tr>\n",
       "      <th>labelCode</th>\n",
       "      <td>0.883144</td>\n",
       "      <td>0.824174</td>\n",
       "      <td>1.000000</td>\n",
       "    </tr>\n",
       "  </tbody>\n",
       "</table>\n",
       "</div>"
      ],
      "text/plain": [
       "            balance     stock  labelCode\n",
       "balance    1.000000  0.565942   0.883144\n",
       "stock      0.565942  1.000000   0.824174\n",
       "labelCode  0.883144  0.824174   1.000000"
      ]
     },
     "execution_count": 15,
     "metadata": {},
     "output_type": "execute_result"
    }
   ],
   "source": [
    "corrDf = csData.corr()\n",
    "corrDf"
   ]
  },
  {
   "cell_type": "code",
   "execution_count": 14,
   "id": "c294ebc2-5770-4fb9-bfb1-5eaca8fe9ade",
   "metadata": {},
   "outputs": [],
   "source": [
    "featuresStd = 0.5"
   ]
  },
  {
   "cell_type": "code",
   "execution_count": 16,
   "id": "e0f5b92f-2b24-4513-a890-d1a91cc232ae",
   "metadata": {},
   "outputs": [
    {
     "data": {
      "text/html": [
       "<div>\n",
       "<style scoped>\n",
       "    .dataframe tbody tr th:only-of-type {\n",
       "        vertical-align: middle;\n",
       "    }\n",
       "\n",
       "    .dataframe tbody tr th {\n",
       "        vertical-align: top;\n",
       "    }\n",
       "\n",
       "    .dataframe thead th {\n",
       "        text-align: right;\n",
       "    }\n",
       "</style>\n",
       "<table border=\"1\" class=\"dataframe\">\n",
       "  <thead>\n",
       "    <tr style=\"text-align: right;\">\n",
       "      <th></th>\n",
       "      <th>balance</th>\n",
       "      <th>stock</th>\n",
       "      <th>labelCode</th>\n",
       "    </tr>\n",
       "  </thead>\n",
       "  <tbody>\n",
       "    <tr>\n",
       "      <th>balance</th>\n",
       "      <td>1.000000</td>\n",
       "      <td>0.565942</td>\n",
       "      <td>0.883144</td>\n",
       "    </tr>\n",
       "    <tr>\n",
       "      <th>stock</th>\n",
       "      <td>0.565942</td>\n",
       "      <td>1.000000</td>\n",
       "      <td>0.824174</td>\n",
       "    </tr>\n",
       "  </tbody>\n",
       "</table>\n",
       "</div>"
      ],
      "text/plain": [
       "          balance     stock  labelCode\n",
       "balance  1.000000  0.565942   0.883144\n",
       "stock    0.565942  1.000000   0.824174"
      ]
     },
     "execution_count": 16,
     "metadata": {},
     "output_type": "execute_result"
    }
   ],
   "source": [
    "corrDf[ ( abs(corrDf.labelCode) > featuresStd ) & ( abs(corrDf.labelCode) != 1 )]"
   ]
  },
  {
   "cell_type": "code",
   "execution_count": 17,
   "id": "d4d28075-9ca5-47d1-90f0-a15dd370bc49",
   "metadata": {},
   "outputs": [
    {
     "data": {
      "text/plain": [
       "['balance', 'stock']"
      ]
     },
     "execution_count": 17,
     "metadata": {},
     "output_type": "execute_result"
    }
   ],
   "source": [
    "features = list( (corrDf[ ( abs(corrDf.labelCode) > featuresStd ) & ( abs(corrDf.labelCode) != 1 )]).index )\n",
    "features"
   ]
  },
  {
   "cell_type": "code",
   "execution_count": 18,
   "id": "4287c91c-c34f-4555-9eb5-1da2fabe68c7",
   "metadata": {},
   "outputs": [],
   "source": [
    "label = [\"label\"]"
   ]
  },
  {
   "cell_type": "markdown",
   "id": "e7d8e938-de86-47f5-8cd6-bbbfe17d93bf",
   "metadata": {},
   "source": [
    "#### 2-2. 데이터 분리"
   ]
  },
  {
   "cell_type": "code",
   "execution_count": 19,
   "id": "fd2ecc49-3a77-4485-9c45-957a7978d962",
   "metadata": {},
   "outputs": [],
   "source": [
    "featuresData = csData.loc[:, features]\n",
    "labelData = csData.loc[:, label]"
   ]
  },
  {
   "cell_type": "code",
   "execution_count": 20,
   "id": "f4759321-be5a-4c49-9228-ecd3ace385a4",
   "metadata": {},
   "outputs": [],
   "source": [
    "trainingData_features,\\\n",
    "testData_features,\\\n",
    "trainingData_label,\\\n",
    "testData_label = \\\n",
    "                train_test_split(featuresData, labelData, test_size = 0.3, random_state = 1)"
   ]
  },
  {
   "cell_type": "code",
   "execution_count": 21,
   "id": "9126095b-c951-4c9e-8d7d-2335b2a23c1f",
   "metadata": {},
   "outputs": [
    {
     "name": "stdout",
     "output_type": "stream",
     "text": [
      "(14000, 2)\n",
      "(6000, 2)\n",
      "(14000, 1)\n",
      "(6000, 1)\n"
     ]
    }
   ],
   "source": [
    "print(trainingData_features.shape)\n",
    "print(testData_features.shape)\n",
    "print(trainingData_label.shape)\n",
    "print(testData_label.shape)"
   ]
  },
  {
   "cell_type": "markdown",
   "id": "d8362d35-83a0-46c5-a62e-332c53202816",
   "metadata": {},
   "source": [
    "### 3. 모델 선언 및 학습"
   ]
  },
  {
   "cell_type": "code",
   "execution_count": 22,
   "id": "372afb03-b312-40a7-b1a3-b37a127f287a",
   "metadata": {},
   "outputs": [],
   "source": [
    "# 모델 선언\n",
    "modelMethod = tree.DecisionTreeClassifier(random_state = 1)"
   ]
  },
  {
   "cell_type": "code",
   "execution_count": 23,
   "id": "1977ae9f-4310-418a-a3b3-cd83d5a3a23f",
   "metadata": {},
   "outputs": [],
   "source": [
    "# 모델 훈련(훈련데이터 features, label)\n",
    "model_Dt = modelMethod.fit(trainingData_features, trainingData_label)"
   ]
  },
  {
   "cell_type": "markdown",
   "id": "5cce35ec-f768-4b20-93b2-2c0c039b3aab",
   "metadata": {},
   "source": [
    "### 4. 모델 예측"
   ]
  },
  {
   "cell_type": "code",
   "execution_count": 24,
   "id": "13a6af9d-597e-4c8e-9c1a-aeebd2afa858",
   "metadata": {},
   "outputs": [
    {
     "data": {
      "text/plain": [
       "array(['diamond', 'diamond', 'diamond', ..., 'diamond', 'vip', 'diamond'],\n",
       "      dtype=object)"
      ]
     },
     "execution_count": 24,
     "metadata": {},
     "output_type": "execute_result"
    }
   ],
   "source": [
    "predict = model_Dt.predict(testData_features)\n",
    "predict"
   ]
  },
  {
   "cell_type": "markdown",
   "id": "2a7097d1-a0f5-494b-bed0-7a5790f160a2",
   "metadata": {},
   "source": [
    "### 5. 데이터 정리"
   ]
  },
  {
   "cell_type": "code",
   "execution_count": 25,
   "id": "9727144e-bcb5-44a4-bfea-8c5773605363",
   "metadata": {},
   "outputs": [],
   "source": [
    "# 예측 결과를 데이터 프레임으로 변환\n",
    "predictData = pd.DataFrame(predict, columns=[\"PREDICT\"])"
   ]
  },
  {
   "cell_type": "code",
   "execution_count": 26,
   "id": "2400e2cf-8847-48c3-b58c-ed74dce20f92",
   "metadata": {},
   "outputs": [
    {
     "data": {
      "text/html": [
       "<div>\n",
       "<style scoped>\n",
       "    .dataframe tbody tr th:only-of-type {\n",
       "        vertical-align: middle;\n",
       "    }\n",
       "\n",
       "    .dataframe tbody tr th {\n",
       "        vertical-align: top;\n",
       "    }\n",
       "\n",
       "    .dataframe thead th {\n",
       "        text-align: right;\n",
       "    }\n",
       "</style>\n",
       "<table border=\"1\" class=\"dataframe\">\n",
       "  <thead>\n",
       "    <tr style=\"text-align: right;\">\n",
       "      <th></th>\n",
       "      <th>label</th>\n",
       "    </tr>\n",
       "  </thead>\n",
       "  <tbody>\n",
       "    <tr>\n",
       "      <th>11456</th>\n",
       "      <td>diamond</td>\n",
       "    </tr>\n",
       "    <tr>\n",
       "      <th>16528</th>\n",
       "      <td>diamond</td>\n",
       "    </tr>\n",
       "    <tr>\n",
       "      <th>3253</th>\n",
       "      <td>diamond</td>\n",
       "    </tr>\n",
       "    <tr>\n",
       "      <th>18614</th>\n",
       "      <td>normal</td>\n",
       "    </tr>\n",
       "    <tr>\n",
       "      <th>1544</th>\n",
       "      <td>normal</td>\n",
       "    </tr>\n",
       "    <tr>\n",
       "      <th>...</th>\n",
       "      <td>...</td>\n",
       "    </tr>\n",
       "    <tr>\n",
       "      <th>12696</th>\n",
       "      <td>diamond</td>\n",
       "    </tr>\n",
       "    <tr>\n",
       "      <th>14288</th>\n",
       "      <td>diamond</td>\n",
       "    </tr>\n",
       "    <tr>\n",
       "      <th>18768</th>\n",
       "      <td>diamond</td>\n",
       "    </tr>\n",
       "    <tr>\n",
       "      <th>3950</th>\n",
       "      <td>vip</td>\n",
       "    </tr>\n",
       "    <tr>\n",
       "      <th>8871</th>\n",
       "      <td>diamond</td>\n",
       "    </tr>\n",
       "  </tbody>\n",
       "</table>\n",
       "<p>6000 rows × 1 columns</p>\n",
       "</div>"
      ],
      "text/plain": [
       "         label\n",
       "11456  diamond\n",
       "16528  diamond\n",
       "3253   diamond\n",
       "18614   normal\n",
       "1544    normal\n",
       "...        ...\n",
       "12696  diamond\n",
       "14288  diamond\n",
       "18768  diamond\n",
       "3950       vip\n",
       "8871   diamond\n",
       "\n",
       "[6000 rows x 1 columns]"
      ]
     },
     "execution_count": 26,
     "metadata": {},
     "output_type": "execute_result"
    }
   ],
   "source": [
    "testData_label"
   ]
  },
  {
   "cell_type": "code",
   "execution_count": 27,
   "id": "72bc9e1c-abd5-43bf-8ac0-22efff92efcd",
   "metadata": {},
   "outputs": [
    {
     "data": {
      "text/html": [
       "<div>\n",
       "<style scoped>\n",
       "    .dataframe tbody tr th:only-of-type {\n",
       "        vertical-align: middle;\n",
       "    }\n",
       "\n",
       "    .dataframe tbody tr th {\n",
       "        vertical-align: top;\n",
       "    }\n",
       "\n",
       "    .dataframe thead th {\n",
       "        text-align: right;\n",
       "    }\n",
       "</style>\n",
       "<table border=\"1\" class=\"dataframe\">\n",
       "  <thead>\n",
       "    <tr style=\"text-align: right;\">\n",
       "      <th></th>\n",
       "      <th>label</th>\n",
       "    </tr>\n",
       "  </thead>\n",
       "  <tbody>\n",
       "    <tr>\n",
       "      <th>0</th>\n",
       "      <td>diamond</td>\n",
       "    </tr>\n",
       "    <tr>\n",
       "      <th>1</th>\n",
       "      <td>diamond</td>\n",
       "    </tr>\n",
       "    <tr>\n",
       "      <th>2</th>\n",
       "      <td>diamond</td>\n",
       "    </tr>\n",
       "    <tr>\n",
       "      <th>3</th>\n",
       "      <td>normal</td>\n",
       "    </tr>\n",
       "    <tr>\n",
       "      <th>4</th>\n",
       "      <td>normal</td>\n",
       "    </tr>\n",
       "    <tr>\n",
       "      <th>...</th>\n",
       "      <td>...</td>\n",
       "    </tr>\n",
       "    <tr>\n",
       "      <th>5995</th>\n",
       "      <td>diamond</td>\n",
       "    </tr>\n",
       "    <tr>\n",
       "      <th>5996</th>\n",
       "      <td>diamond</td>\n",
       "    </tr>\n",
       "    <tr>\n",
       "      <th>5997</th>\n",
       "      <td>diamond</td>\n",
       "    </tr>\n",
       "    <tr>\n",
       "      <th>5998</th>\n",
       "      <td>vip</td>\n",
       "    </tr>\n",
       "    <tr>\n",
       "      <th>5999</th>\n",
       "      <td>diamond</td>\n",
       "    </tr>\n",
       "  </tbody>\n",
       "</table>\n",
       "<p>6000 rows × 1 columns</p>\n",
       "</div>"
      ],
      "text/plain": [
       "        label\n",
       "0     diamond\n",
       "1     diamond\n",
       "2     diamond\n",
       "3      normal\n",
       "4      normal\n",
       "...       ...\n",
       "5995  diamond\n",
       "5996  diamond\n",
       "5997  diamond\n",
       "5998      vip\n",
       "5999  diamond\n",
       "\n",
       "[6000 rows x 1 columns]"
      ]
     },
     "execution_count": 27,
     "metadata": {},
     "output_type": "execute_result"
    }
   ],
   "source": [
    "# 테스트데이터 정답지 인덱스 초기화\n",
    "testData_label.reset_index(drop=True, inplace=True)\n",
    "testData_label"
   ]
  },
  {
   "cell_type": "code",
   "execution_count": 29,
   "id": "fee1e5a3-b2da-49e5-a0a3-ca385b40a1f8",
   "metadata": {},
   "outputs": [
    {
     "data": {
      "text/html": [
       "<div>\n",
       "<style scoped>\n",
       "    .dataframe tbody tr th:only-of-type {\n",
       "        vertical-align: middle;\n",
       "    }\n",
       "\n",
       "    .dataframe tbody tr th {\n",
       "        vertical-align: top;\n",
       "    }\n",
       "\n",
       "    .dataframe thead th {\n",
       "        text-align: right;\n",
       "    }\n",
       "</style>\n",
       "<table border=\"1\" class=\"dataframe\">\n",
       "  <thead>\n",
       "    <tr style=\"text-align: right;\">\n",
       "      <th></th>\n",
       "      <th>label</th>\n",
       "      <th>PREDICT</th>\n",
       "    </tr>\n",
       "  </thead>\n",
       "  <tbody>\n",
       "    <tr>\n",
       "      <th>0</th>\n",
       "      <td>diamond</td>\n",
       "      <td>diamond</td>\n",
       "    </tr>\n",
       "    <tr>\n",
       "      <th>1</th>\n",
       "      <td>diamond</td>\n",
       "      <td>diamond</td>\n",
       "    </tr>\n",
       "    <tr>\n",
       "      <th>2</th>\n",
       "      <td>diamond</td>\n",
       "      <td>diamond</td>\n",
       "    </tr>\n",
       "    <tr>\n",
       "      <th>3</th>\n",
       "      <td>normal</td>\n",
       "      <td>normal</td>\n",
       "    </tr>\n",
       "    <tr>\n",
       "      <th>4</th>\n",
       "      <td>normal</td>\n",
       "      <td>normal</td>\n",
       "    </tr>\n",
       "    <tr>\n",
       "      <th>...</th>\n",
       "      <td>...</td>\n",
       "      <td>...</td>\n",
       "    </tr>\n",
       "    <tr>\n",
       "      <th>5995</th>\n",
       "      <td>diamond</td>\n",
       "      <td>diamond</td>\n",
       "    </tr>\n",
       "    <tr>\n",
       "      <th>5996</th>\n",
       "      <td>diamond</td>\n",
       "      <td>diamond</td>\n",
       "    </tr>\n",
       "    <tr>\n",
       "      <th>5997</th>\n",
       "      <td>diamond</td>\n",
       "      <td>diamond</td>\n",
       "    </tr>\n",
       "    <tr>\n",
       "      <th>5998</th>\n",
       "      <td>vip</td>\n",
       "      <td>vip</td>\n",
       "    </tr>\n",
       "    <tr>\n",
       "      <th>5999</th>\n",
       "      <td>diamond</td>\n",
       "      <td>diamond</td>\n",
       "    </tr>\n",
       "  </tbody>\n",
       "</table>\n",
       "<p>6000 rows × 2 columns</p>\n",
       "</div>"
      ],
      "text/plain": [
       "        label  PREDICT\n",
       "0     diamond  diamond\n",
       "1     diamond  diamond\n",
       "2     diamond  diamond\n",
       "3      normal   normal\n",
       "4      normal   normal\n",
       "...       ...      ...\n",
       "5995  diamond  diamond\n",
       "5996  diamond  diamond\n",
       "5997  diamond  diamond\n",
       "5998      vip      vip\n",
       "5999  diamond  diamond\n",
       "\n",
       "[6000 rows x 2 columns]"
      ]
     },
     "execution_count": 29,
     "metadata": {},
     "output_type": "execute_result"
    }
   ],
   "source": [
    "# 예측결과, 정답지 병합\n",
    "finalData = pd.concat( [testData_label, predictData] , axis = 1)\n",
    "finalData"
   ]
  },
  {
   "cell_type": "markdown",
   "id": "c63626fe-ffc6-42f3-bb0b-b29ad6953584",
   "metadata": {},
   "source": [
    "### 6. 결과 검증"
   ]
  },
  {
   "cell_type": "code",
   "execution_count": 30,
   "id": "a61385b4-beed-4b52-adea-c8930ce903ba",
   "metadata": {},
   "outputs": [],
   "source": [
    "# 결과 테스트 하기\n",
    "ac_score = accuracy_score(testData_label, predict)\n",
    "cl_report = classification_report(testData_label, predict)"
   ]
  },
  {
   "cell_type": "code",
   "execution_count": 31,
   "id": "31c4c231-bdfc-4b2f-99b0-d98c60efd20a",
   "metadata": {},
   "outputs": [
    {
     "name": "stdout",
     "output_type": "stream",
     "text": [
      "Accuracy =  0.9945\n",
      "result = \n",
      "               precision    recall  f1-score   support\n",
      "\n",
      "     diamond       1.00      1.00      1.00      3483\n",
      "      normal       0.99      0.99      0.99      1803\n",
      "         vip       0.99      0.99      0.99       714\n",
      "\n",
      "    accuracy                           0.99      6000\n",
      "   macro avg       0.99      0.99      0.99      6000\n",
      "weighted avg       0.99      0.99      0.99      6000\n",
      "\n"
     ]
    }
   ],
   "source": [
    "# 결과 리포트 하기\n",
    "### accuracy : 정확도\n",
    "### precision : 정밀도 (ex. 사과라고 분류기가 예측한 결과중에 분류기가 맞춘 비율\n",
    "### recall : 재현율 (ex. 원래 사과들중에 사과라고 분류기가 맞춘 비율)\n",
    "### f1-score : precision 과 recall의 조화평균\n",
    "\n",
    "print(\"Accuracy = \", ac_score)\n",
    "print(\"result = \\n\", cl_report)"
   ]
  },
  {
   "cell_type": "code",
   "execution_count": null,
   "id": "9355e476-53e8-4a2a-9c96-083128f87fdf",
   "metadata": {},
   "outputs": [],
   "source": []
  }
 ],
 "metadata": {
  "kernelspec": {
   "display_name": "Python 3 (ipykernel)",
   "language": "python",
   "name": "python3"
  },
  "language_info": {
   "codemirror_mode": {
    "name": "ipython",
    "version": 3
   },
   "file_extension": ".py",
   "mimetype": "text/x-python",
   "name": "python",
   "nbconvert_exporter": "python",
   "pygments_lexer": "ipython3",
   "version": "3.9.12"
  }
 },
 "nbformat": 4,
 "nbformat_minor": 5
}
