{
 "cells": [
  {
   "cell_type": "markdown",
   "id": "7a0f69ba-40de-4aca-b872-756074de01bb",
   "metadata": {},
   "source": [
    "### 라이브러리 불러오기"
   ]
  },
  {
   "cell_type": "code",
   "execution_count": 1,
   "id": "af6dd7e7-b5d0-4e0d-80e8-b773d4bdd476",
   "metadata": {},
   "outputs": [],
   "source": [
    "import pandas as pd\n",
    "import numpy as np"
   ]
  },
  {
   "cell_type": "code",
   "execution_count": 2,
   "id": "f087677d-db8e-42c6-8975-63679bafa8a1",
   "metadata": {},
   "outputs": [],
   "source": [
    "# K-Means 라이브러리\n",
    "from sklearn.cluster import KMeans\n",
    "\n",
    "# 시각화 라이브러리\n",
    "import matplotlib.pyplot as plt\n",
    "%matplotlib inline"
   ]
  },
  {
   "cell_type": "markdown",
   "id": "6bad9d33-98ba-4640-8483-415e5d859787",
   "metadata": {},
   "source": [
    "### 데이터 불러오기"
   ]
  },
  {
   "cell_type": "code",
   "execution_count": 3,
   "id": "45f5d59c-4288-4685-a196-85f2793796de",
   "metadata": {},
   "outputs": [
    {
     "data": {
      "text/html": [
       "<div>\n",
       "<style scoped>\n",
       "    .dataframe tbody tr th:only-of-type {\n",
       "        vertical-align: middle;\n",
       "    }\n",
       "\n",
       "    .dataframe tbody tr th {\n",
       "        vertical-align: top;\n",
       "    }\n",
       "\n",
       "    .dataframe thead th {\n",
       "        text-align: right;\n",
       "    }\n",
       "</style>\n",
       "<table border=\"1\" class=\"dataframe\">\n",
       "  <thead>\n",
       "    <tr style=\"text-align: right;\">\n",
       "      <th></th>\n",
       "      <th>NAME</th>\n",
       "      <th>SW</th>\n",
       "      <th>DB</th>\n",
       "      <th>AND</th>\n",
       "    </tr>\n",
       "  </thead>\n",
       "  <tbody>\n",
       "    <tr>\n",
       "      <th>0</th>\n",
       "      <td>ST0001</td>\n",
       "      <td>95</td>\n",
       "      <td>30</td>\n",
       "      <td>0</td>\n",
       "    </tr>\n",
       "    <tr>\n",
       "      <th>1</th>\n",
       "      <td>ST0002</td>\n",
       "      <td>50</td>\n",
       "      <td>50</td>\n",
       "      <td>0</td>\n",
       "    </tr>\n",
       "    <tr>\n",
       "      <th>2</th>\n",
       "      <td>ST0003</td>\n",
       "      <td>15</td>\n",
       "      <td>30</td>\n",
       "      <td>15</td>\n",
       "    </tr>\n",
       "    <tr>\n",
       "      <th>3</th>\n",
       "      <td>ST0004</td>\n",
       "      <td>90</td>\n",
       "      <td>50</td>\n",
       "      <td>20</td>\n",
       "    </tr>\n",
       "    <tr>\n",
       "      <th>4</th>\n",
       "      <td>ST0005</td>\n",
       "      <td>75</td>\n",
       "      <td>20</td>\n",
       "      <td>20</td>\n",
       "    </tr>\n",
       "  </tbody>\n",
       "</table>\n",
       "</div>"
      ],
      "text/plain": [
       "     NAME  SW  DB  AND\n",
       "0  ST0001  95  30    0\n",
       "1  ST0002  50  50    0\n",
       "2  ST0003  15  30   15\n",
       "3  ST0004  90  50   20\n",
       "4  ST0005  75  20   20"
      ]
     },
     "execution_count": 3,
     "metadata": {},
     "output_type": "execute_result"
    }
   ],
   "source": [
    "studentData = pd.read_csv(\"https://raw.githubusercontent.com/hyokwan/python-lecture/master/dataset/student_middle.csv\")\n",
    "studentData.head()"
   ]
  },
  {
   "cell_type": "markdown",
   "id": "10361b08-83f6-403a-855d-5840dccb7c83",
   "metadata": {},
   "source": [
    "### 1. 타입통합 / 특정 숫자 컬럼 추가"
   ]
  },
  {
   "cell_type": "code",
   "execution_count": 4,
   "id": "e90c990a-e4ed-44d4-8fe6-20f6c849a5fc",
   "metadata": {},
   "outputs": [
    {
     "name": "stdout",
     "output_type": "stream",
     "text": [
      "<class 'pandas.core.frame.DataFrame'>\n",
      "RangeIndex: 26 entries, 0 to 25\n",
      "Data columns (total 4 columns):\n",
      " #   Column  Non-Null Count  Dtype \n",
      "---  ------  --------------  ----- \n",
      " 0   NAME    26 non-null     object\n",
      " 1   SW      26 non-null     int64 \n",
      " 2   DB      26 non-null     int64 \n",
      " 3   AND     26 non-null     int64 \n",
      "dtypes: int64(3), object(1)\n",
      "memory usage: 960.0+ bytes\n"
     ]
    }
   ],
   "source": [
    "studentData.info()"
   ]
  },
  {
   "cell_type": "markdown",
   "id": "3849ed40-6777-4387-839e-3ebb396458a2",
   "metadata": {},
   "source": [
    "### 2. 특성 선정 / 데이터 분리"
   ]
  },
  {
   "cell_type": "markdown",
   "id": "92ebd757-ef49-4d4f-9758-1b085e408092",
   "metadata": {},
   "source": [
    "#### 2-1. 특성 선정"
   ]
  },
  {
   "cell_type": "code",
   "execution_count": 5,
   "id": "d2fda9e9-70c0-4406-af81-5000e0a9272a",
   "metadata": {},
   "outputs": [],
   "source": [
    "featuresColumns = [\"SW\", \"DB\", \"AND\"]"
   ]
  },
  {
   "cell_type": "markdown",
   "id": "04ef1515-6fc7-4736-b775-4a3d1de27a2c",
   "metadata": {},
   "source": [
    "#### 2-2. 데이터 분리"
   ]
  },
  {
   "cell_type": "code",
   "execution_count": 6,
   "id": "3ffd001b-849f-4c93-9f00-ac236475bf33",
   "metadata": {},
   "outputs": [],
   "source": [
    "### 기본정보 가지고 있기\n",
    "name = studentData[[\"NAME\"]]"
   ]
  },
  {
   "cell_type": "code",
   "execution_count": 7,
   "id": "3715be95-9c03-4d2b-a6ef-cbcbf6724970",
   "metadata": {},
   "outputs": [],
   "source": [
    "### 특성 정보 분리\n",
    "features = studentData.loc[:, featuresColumns]"
   ]
  },
  {
   "cell_type": "code",
   "execution_count": 8,
   "id": "4ceb5321-4644-4333-adc2-106e9ff61a4f",
   "metadata": {
    "tags": []
   },
   "outputs": [
    {
     "name": "stdout",
     "output_type": "stream",
     "text": [
      "(26, 1)\n",
      "(26, 3)\n"
     ]
    }
   ],
   "source": [
    "print(name.shape)\n",
    "print(features.shape)"
   ]
  },
  {
   "cell_type": "markdown",
   "id": "cad6d9d2-2447-48c8-ad1f-cb0643a7c7c0",
   "metadata": {},
   "source": [
    "### 3. 모델 선언"
   ]
  },
  {
   "cell_type": "code",
   "execution_count": 9,
   "id": "89c59d06-2b88-42aa-8b2f-3a22b714c731",
   "metadata": {},
   "outputs": [],
   "source": [
    "### 모델 정의\n",
    "modelMethod = KMeans(random_state=1, n_clusters=2)"
   ]
  },
  {
   "cell_type": "code",
   "execution_count": 10,
   "id": "6ba3ad2e-152c-4a8f-9195-2a48e892dc39",
   "metadata": {},
   "outputs": [],
   "source": [
    "model_kmeans = modelMethod.fit(features)"
   ]
  },
  {
   "cell_type": "markdown",
   "id": "1444cae0-141d-47c2-82e4-c34c421b41d2",
   "metadata": {
    "tags": []
   },
   "source": [
    "### 4. 모델 예측"
   ]
  },
  {
   "cell_type": "code",
   "execution_count": 11,
   "id": "57145e25-e746-42bd-818b-e4557a7e1301",
   "metadata": {},
   "outputs": [
    {
     "data": {
      "text/plain": [
       "array([0, 0, 0, 0, 0, 1, 0, 1, 0, 0, 1, 0, 0, 1, 1, 1, 0, 1, 1, 1, 1, 1,\n",
       "       1, 1, 1, 1])"
      ]
     },
     "execution_count": 11,
     "metadata": {},
     "output_type": "execute_result"
    }
   ],
   "source": [
    "model_kmeans.predict(features)"
   ]
  },
  {
   "cell_type": "code",
   "execution_count": 12,
   "id": "b91b8398-b15c-497a-bbc4-a127e5acd2f7",
   "metadata": {},
   "outputs": [
    {
     "data": {
      "text/plain": [
       "array([0, 0, 0, 0, 0, 1, 0, 1, 0, 0, 1, 0, 0, 1, 1, 1, 0, 1, 1, 1, 1, 1,\n",
       "       1, 1, 1, 1])"
      ]
     },
     "execution_count": 12,
     "metadata": {},
     "output_type": "execute_result"
    }
   ],
   "source": [
    "model_kmeans.fit_predict(features)"
   ]
  },
  {
   "cell_type": "code",
   "execution_count": 12,
   "id": "9e6d9d45-47c5-4865-acf4-975d60e749d1",
   "metadata": {},
   "outputs": [],
   "source": [
    "predict = pd.DataFrame(model_kmeans.predict(features))\n",
    "predict.columns=[\"PREDICT\"]"
   ]
  },
  {
   "cell_type": "code",
   "execution_count": 13,
   "id": "3438a611-f17c-4870-9755-76b5b4ca04a6",
   "metadata": {
    "scrolled": true,
    "tags": []
   },
   "outputs": [
    {
     "data": {
      "text/html": [
       "<div>\n",
       "<style scoped>\n",
       "    .dataframe tbody tr th:only-of-type {\n",
       "        vertical-align: middle;\n",
       "    }\n",
       "\n",
       "    .dataframe tbody tr th {\n",
       "        vertical-align: top;\n",
       "    }\n",
       "\n",
       "    .dataframe thead th {\n",
       "        text-align: right;\n",
       "    }\n",
       "</style>\n",
       "<table border=\"1\" class=\"dataframe\">\n",
       "  <thead>\n",
       "    <tr style=\"text-align: right;\">\n",
       "      <th></th>\n",
       "      <th>PREDICT</th>\n",
       "    </tr>\n",
       "  </thead>\n",
       "  <tbody>\n",
       "    <tr>\n",
       "      <th>0</th>\n",
       "      <td>0</td>\n",
       "    </tr>\n",
       "    <tr>\n",
       "      <th>1</th>\n",
       "      <td>0</td>\n",
       "    </tr>\n",
       "    <tr>\n",
       "      <th>2</th>\n",
       "      <td>0</td>\n",
       "    </tr>\n",
       "    <tr>\n",
       "      <th>3</th>\n",
       "      <td>0</td>\n",
       "    </tr>\n",
       "    <tr>\n",
       "      <th>4</th>\n",
       "      <td>0</td>\n",
       "    </tr>\n",
       "    <tr>\n",
       "      <th>5</th>\n",
       "      <td>1</td>\n",
       "    </tr>\n",
       "    <tr>\n",
       "      <th>6</th>\n",
       "      <td>0</td>\n",
       "    </tr>\n",
       "    <tr>\n",
       "      <th>7</th>\n",
       "      <td>1</td>\n",
       "    </tr>\n",
       "    <tr>\n",
       "      <th>8</th>\n",
       "      <td>0</td>\n",
       "    </tr>\n",
       "    <tr>\n",
       "      <th>9</th>\n",
       "      <td>0</td>\n",
       "    </tr>\n",
       "    <tr>\n",
       "      <th>10</th>\n",
       "      <td>1</td>\n",
       "    </tr>\n",
       "    <tr>\n",
       "      <th>11</th>\n",
       "      <td>0</td>\n",
       "    </tr>\n",
       "    <tr>\n",
       "      <th>12</th>\n",
       "      <td>0</td>\n",
       "    </tr>\n",
       "    <tr>\n",
       "      <th>13</th>\n",
       "      <td>1</td>\n",
       "    </tr>\n",
       "    <tr>\n",
       "      <th>14</th>\n",
       "      <td>1</td>\n",
       "    </tr>\n",
       "    <tr>\n",
       "      <th>15</th>\n",
       "      <td>1</td>\n",
       "    </tr>\n",
       "    <tr>\n",
       "      <th>16</th>\n",
       "      <td>0</td>\n",
       "    </tr>\n",
       "    <tr>\n",
       "      <th>17</th>\n",
       "      <td>1</td>\n",
       "    </tr>\n",
       "    <tr>\n",
       "      <th>18</th>\n",
       "      <td>1</td>\n",
       "    </tr>\n",
       "    <tr>\n",
       "      <th>19</th>\n",
       "      <td>1</td>\n",
       "    </tr>\n",
       "    <tr>\n",
       "      <th>20</th>\n",
       "      <td>1</td>\n",
       "    </tr>\n",
       "    <tr>\n",
       "      <th>21</th>\n",
       "      <td>1</td>\n",
       "    </tr>\n",
       "    <tr>\n",
       "      <th>22</th>\n",
       "      <td>1</td>\n",
       "    </tr>\n",
       "    <tr>\n",
       "      <th>23</th>\n",
       "      <td>1</td>\n",
       "    </tr>\n",
       "    <tr>\n",
       "      <th>24</th>\n",
       "      <td>1</td>\n",
       "    </tr>\n",
       "    <tr>\n",
       "      <th>25</th>\n",
       "      <td>1</td>\n",
       "    </tr>\n",
       "  </tbody>\n",
       "</table>\n",
       "</div>"
      ],
      "text/plain": [
       "    PREDICT\n",
       "0         0\n",
       "1         0\n",
       "2         0\n",
       "3         0\n",
       "4         0\n",
       "5         1\n",
       "6         0\n",
       "7         1\n",
       "8         0\n",
       "9         0\n",
       "10        1\n",
       "11        0\n",
       "12        0\n",
       "13        1\n",
       "14        1\n",
       "15        1\n",
       "16        0\n",
       "17        1\n",
       "18        1\n",
       "19        1\n",
       "20        1\n",
       "21        1\n",
       "22        1\n",
       "23        1\n",
       "24        1\n",
       "25        1"
      ]
     },
     "execution_count": 13,
     "metadata": {},
     "output_type": "execute_result"
    }
   ],
   "source": [
    "predict"
   ]
  },
  {
   "cell_type": "code",
   "execution_count": 14,
   "id": "8464fc48-6e53-4b0d-ae74-2cfdb3394885",
   "metadata": {},
   "outputs": [],
   "source": [
    "### name, feature, predict 붙이기\n",
    "result = pd.concat([studentData, predict], axis = 1)"
   ]
  },
  {
   "cell_type": "code",
   "execution_count": 15,
   "id": "8ec64814-97aa-4cd7-b035-8c821edd13df",
   "metadata": {
    "scrolled": true,
    "tags": []
   },
   "outputs": [
    {
     "data": {
      "text/html": [
       "<div>\n",
       "<style scoped>\n",
       "    .dataframe tbody tr th:only-of-type {\n",
       "        vertical-align: middle;\n",
       "    }\n",
       "\n",
       "    .dataframe tbody tr th {\n",
       "        vertical-align: top;\n",
       "    }\n",
       "\n",
       "    .dataframe thead th {\n",
       "        text-align: right;\n",
       "    }\n",
       "</style>\n",
       "<table border=\"1\" class=\"dataframe\">\n",
       "  <thead>\n",
       "    <tr style=\"text-align: right;\">\n",
       "      <th></th>\n",
       "      <th>NAME</th>\n",
       "      <th>SW</th>\n",
       "      <th>DB</th>\n",
       "      <th>AND</th>\n",
       "      <th>PREDICT</th>\n",
       "    </tr>\n",
       "  </thead>\n",
       "  <tbody>\n",
       "    <tr>\n",
       "      <th>0</th>\n",
       "      <td>ST0001</td>\n",
       "      <td>95</td>\n",
       "      <td>30</td>\n",
       "      <td>0</td>\n",
       "      <td>0</td>\n",
       "    </tr>\n",
       "    <tr>\n",
       "      <th>1</th>\n",
       "      <td>ST0002</td>\n",
       "      <td>50</td>\n",
       "      <td>50</td>\n",
       "      <td>0</td>\n",
       "      <td>0</td>\n",
       "    </tr>\n",
       "    <tr>\n",
       "      <th>2</th>\n",
       "      <td>ST0003</td>\n",
       "      <td>15</td>\n",
       "      <td>30</td>\n",
       "      <td>15</td>\n",
       "      <td>0</td>\n",
       "    </tr>\n",
       "    <tr>\n",
       "      <th>3</th>\n",
       "      <td>ST0004</td>\n",
       "      <td>90</td>\n",
       "      <td>50</td>\n",
       "      <td>20</td>\n",
       "      <td>0</td>\n",
       "    </tr>\n",
       "    <tr>\n",
       "      <th>4</th>\n",
       "      <td>ST0005</td>\n",
       "      <td>75</td>\n",
       "      <td>20</td>\n",
       "      <td>20</td>\n",
       "      <td>0</td>\n",
       "    </tr>\n",
       "    <tr>\n",
       "      <th>5</th>\n",
       "      <td>ST0006</td>\n",
       "      <td>100</td>\n",
       "      <td>80</td>\n",
       "      <td>30</td>\n",
       "      <td>1</td>\n",
       "    </tr>\n",
       "    <tr>\n",
       "      <th>6</th>\n",
       "      <td>ST0007</td>\n",
       "      <td>15</td>\n",
       "      <td>10</td>\n",
       "      <td>30</td>\n",
       "      <td>0</td>\n",
       "    </tr>\n",
       "    <tr>\n",
       "      <th>7</th>\n",
       "      <td>ST0008</td>\n",
       "      <td>100</td>\n",
       "      <td>100</td>\n",
       "      <td>33</td>\n",
       "      <td>1</td>\n",
       "    </tr>\n",
       "    <tr>\n",
       "      <th>8</th>\n",
       "      <td>ST0009</td>\n",
       "      <td>65</td>\n",
       "      <td>60</td>\n",
       "      <td>35</td>\n",
       "      <td>0</td>\n",
       "    </tr>\n",
       "    <tr>\n",
       "      <th>9</th>\n",
       "      <td>ST0010</td>\n",
       "      <td>90</td>\n",
       "      <td>20</td>\n",
       "      <td>38</td>\n",
       "      <td>0</td>\n",
       "    </tr>\n",
       "    <tr>\n",
       "      <th>10</th>\n",
       "      <td>ST0011</td>\n",
       "      <td>100</td>\n",
       "      <td>70</td>\n",
       "      <td>43</td>\n",
       "      <td>1</td>\n",
       "    </tr>\n",
       "    <tr>\n",
       "      <th>11</th>\n",
       "      <td>ST0012</td>\n",
       "      <td>90</td>\n",
       "      <td>45</td>\n",
       "      <td>45</td>\n",
       "      <td>0</td>\n",
       "    </tr>\n",
       "    <tr>\n",
       "      <th>12</th>\n",
       "      <td>ST0013</td>\n",
       "      <td>90</td>\n",
       "      <td>60</td>\n",
       "      <td>47</td>\n",
       "      <td>0</td>\n",
       "    </tr>\n",
       "    <tr>\n",
       "      <th>13</th>\n",
       "      <td>ST0014</td>\n",
       "      <td>100</td>\n",
       "      <td>100</td>\n",
       "      <td>48</td>\n",
       "      <td>1</td>\n",
       "    </tr>\n",
       "    <tr>\n",
       "      <th>14</th>\n",
       "      <td>ST0015</td>\n",
       "      <td>75</td>\n",
       "      <td>80</td>\n",
       "      <td>49</td>\n",
       "      <td>1</td>\n",
       "    </tr>\n",
       "    <tr>\n",
       "      <th>15</th>\n",
       "      <td>ST0016</td>\n",
       "      <td>90</td>\n",
       "      <td>100</td>\n",
       "      <td>50</td>\n",
       "      <td>1</td>\n",
       "    </tr>\n",
       "    <tr>\n",
       "      <th>16</th>\n",
       "      <td>ST0017</td>\n",
       "      <td>100</td>\n",
       "      <td>30</td>\n",
       "      <td>50</td>\n",
       "      <td>0</td>\n",
       "    </tr>\n",
       "    <tr>\n",
       "      <th>17</th>\n",
       "      <td>ST0018</td>\n",
       "      <td>100</td>\n",
       "      <td>100</td>\n",
       "      <td>58</td>\n",
       "      <td>1</td>\n",
       "    </tr>\n",
       "    <tr>\n",
       "      <th>18</th>\n",
       "      <td>ST0019</td>\n",
       "      <td>100</td>\n",
       "      <td>100</td>\n",
       "      <td>60</td>\n",
       "      <td>1</td>\n",
       "    </tr>\n",
       "    <tr>\n",
       "      <th>19</th>\n",
       "      <td>ST0020</td>\n",
       "      <td>90</td>\n",
       "      <td>80</td>\n",
       "      <td>69</td>\n",
       "      <td>1</td>\n",
       "    </tr>\n",
       "    <tr>\n",
       "      <th>20</th>\n",
       "      <td>ST0021</td>\n",
       "      <td>100</td>\n",
       "      <td>100</td>\n",
       "      <td>75</td>\n",
       "      <td>1</td>\n",
       "    </tr>\n",
       "    <tr>\n",
       "      <th>21</th>\n",
       "      <td>ST0022</td>\n",
       "      <td>100</td>\n",
       "      <td>100</td>\n",
       "      <td>95</td>\n",
       "      <td>1</td>\n",
       "    </tr>\n",
       "    <tr>\n",
       "      <th>22</th>\n",
       "      <td>ST0023</td>\n",
       "      <td>100</td>\n",
       "      <td>100</td>\n",
       "      <td>96</td>\n",
       "      <td>1</td>\n",
       "    </tr>\n",
       "    <tr>\n",
       "      <th>23</th>\n",
       "      <td>ST0024</td>\n",
       "      <td>100</td>\n",
       "      <td>100</td>\n",
       "      <td>100</td>\n",
       "      <td>1</td>\n",
       "    </tr>\n",
       "    <tr>\n",
       "      <th>24</th>\n",
       "      <td>ST0025</td>\n",
       "      <td>90</td>\n",
       "      <td>100</td>\n",
       "      <td>100</td>\n",
       "      <td>1</td>\n",
       "    </tr>\n",
       "    <tr>\n",
       "      <th>25</th>\n",
       "      <td>ST0026</td>\n",
       "      <td>100</td>\n",
       "      <td>100</td>\n",
       "      <td>100</td>\n",
       "      <td>1</td>\n",
       "    </tr>\n",
       "  </tbody>\n",
       "</table>\n",
       "</div>"
      ],
      "text/plain": [
       "      NAME   SW   DB  AND  PREDICT\n",
       "0   ST0001   95   30    0        0\n",
       "1   ST0002   50   50    0        0\n",
       "2   ST0003   15   30   15        0\n",
       "3   ST0004   90   50   20        0\n",
       "4   ST0005   75   20   20        0\n",
       "5   ST0006  100   80   30        1\n",
       "6   ST0007   15   10   30        0\n",
       "7   ST0008  100  100   33        1\n",
       "8   ST0009   65   60   35        0\n",
       "9   ST0010   90   20   38        0\n",
       "10  ST0011  100   70   43        1\n",
       "11  ST0012   90   45   45        0\n",
       "12  ST0013   90   60   47        0\n",
       "13  ST0014  100  100   48        1\n",
       "14  ST0015   75   80   49        1\n",
       "15  ST0016   90  100   50        1\n",
       "16  ST0017  100   30   50        0\n",
       "17  ST0018  100  100   58        1\n",
       "18  ST0019  100  100   60        1\n",
       "19  ST0020   90   80   69        1\n",
       "20  ST0021  100  100   75        1\n",
       "21  ST0022  100  100   95        1\n",
       "22  ST0023  100  100   96        1\n",
       "23  ST0024  100  100  100        1\n",
       "24  ST0025   90  100  100        1\n",
       "25  ST0026  100  100  100        1"
      ]
     },
     "execution_count": 15,
     "metadata": {},
     "output_type": "execute_result"
    }
   ],
   "source": [
    "result"
   ]
  },
  {
   "cell_type": "markdown",
   "id": "f4f0c6e8-118a-41d7-816c-3c61e0219d54",
   "metadata": {},
   "source": [
    "### 5. 시각화"
   ]
  },
  {
   "cell_type": "code",
   "execution_count": 16,
   "id": "54265950-14ff-4b20-9e66-f86655dfe5f7",
   "metadata": {},
   "outputs": [
    {
     "data": {
      "text/plain": [
       "<matplotlib.collections.PathCollection at 0x11ca9bd53d0>"
      ]
     },
     "execution_count": 16,
     "metadata": {},
     "output_type": "execute_result"
    },
    {
     "data": {
      "image/png": "[encoded data removed]",
      "text/plain": [
       "<Figure size 432x288 with 1 Axes>"
      ]
     },
     "metadata": {
      "needs_background": "light"
     },
     "output_type": "display_data"
    }
   ],
   "source": [
    "### 시각화 하기\n",
    "plt.scatter(result['DB'],result[\"AND\"], c=result[\"PREDICT\"], alpha=0.7)"
   ]
  },
  {
   "cell_type": "markdown",
   "id": "1634aa3d-99ea-4be4-bd19-2c3518f2adfd",
   "metadata": {},
   "source": [
    "### 6. 최적의 k값 찾기"
   ]
  },
  {
   "cell_type": "code",
   "execution_count": 17,
   "id": "c61868ca-2e8c-430c-ae00-54e701d61df5",
   "metadata": {},
   "outputs": [],
   "source": [
    "sse= []\n",
    "K = range(1,8)"
   ]
  },
  {
   "cell_type": "code",
   "execution_count": 100,
   "id": "2c699483-e050-4943-bd92-aef12b0191fd",
   "metadata": {},
   "outputs": [],
   "source": [
    "j = 8"
   ]
  },
  {
   "cell_type": "code",
   "execution_count": 101,
   "id": "680b4e44-fe2f-408f-a7a4-0e792aaaf5eb",
   "metadata": {},
   "outputs": [],
   "source": [
    "km = KMeans(n_clusters=j)"
   ]
  },
  {
   "cell_type": "code",
   "execution_count": 102,
   "id": "5719a7f9-7028-4453-a3df-94db0e209390",
   "metadata": {},
   "outputs": [],
   "source": [
    "km = km.fit(features)"
   ]
  },
  {
   "cell_type": "code",
   "execution_count": 103,
   "id": "cc6cb6c6-5b16-4419-ac4d-28cf45911d68",
   "metadata": {},
   "outputs": [],
   "source": [
    "sse.append(km.inertia_)"
   ]
  },
  {
   "cell_type": "code",
   "execution_count": 104,
   "id": "1f962ee0-deeb-4322-a647-723f3f2edf08",
   "metadata": {},
   "outputs": [
    {
     "data": {
      "text/plain": [
       "[<matplotlib.lines.Line2D at 0x20097b060d0>]"
      ]
     },
     "execution_count": 104,
     "metadata": {},
     "output_type": "execute_result"
    },
    {
     "data": {
      "image/png": "[encoded data removed]",
      "text/plain": [
       "<Figure size 432x288 with 1 Axes>"
      ]
     },
     "metadata": {
      "needs_background": "light"
     },
     "output_type": "display_data"
    }
   ],
   "source": [
    "plt.plot(range(1,8),sse,marker=\"o\")"
   ]
  },
  {
   "cell_type": "code",
   "execution_count": 18,
   "id": "134150d6-176a-45fd-872f-c95c9db22615",
   "metadata": {},
   "outputs": [],
   "source": [
    "for k in K:\n",
    "    km = KMeans(n_clusters=k)\n",
    "    km = km.fit(features)\n",
    "    sse.append(km.inertia_)"
   ]
  },
  {
   "cell_type": "code",
   "execution_count": 22,
   "id": "64fe7088-6fca-4bde-b7ec-d6502d684425",
   "metadata": {},
   "outputs": [
    {
     "data": {
      "text/plain": [
       "[<matplotlib.lines.Line2D at 0x11cb05f9cd0>]"
      ]
     },
     "execution_count": 22,
     "metadata": {},
     "output_type": "execute_result"
    },
    {
     "data": {
      "image/png": "[encoded data removed]",
      "text/plain": [
       "<Figure size 432x288 with 1 Axes>"
      ]
     },
     "metadata": {
      "needs_background": "light"
     },
     "output_type": "display_data"
    }
   ],
   "source": [
    "plt.plot(range(1,8),sse,marker=\"o\")"
   ]
  },
  {
   "cell_type": "code",
   "execution_count": null,
   "id": "ce03200a-3819-4e7f-b9ba-16cb59e6ecab",
   "metadata": {},
   "outputs": [],
   "source": []
  }
 ],
 "metadata": {
  "kernelspec": {
   "display_name": "Python 3 (ipykernel)",
   "language": "python",
   "name": "python3"
  },
  "language_info": {
   "codemirror_mode": {
    "name": "ipython",
    "version": 3
   },
   "file_extension": ".py",
   "mimetype": "text/x-python",
   "name": "python",
   "nbconvert_exporter": "python",
   "pygments_lexer": "ipython3",
   "version": "3.9.12"
  }
 },
 "nbformat": 4,
 "nbformat_minor": 5
}
