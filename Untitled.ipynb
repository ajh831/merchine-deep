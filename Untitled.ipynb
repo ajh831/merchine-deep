{
 "cells": [
  {
   "cell_type": "code",
   "execution_count": 2,
   "id": "5acdf058-9de5-45de-aaed-0a77c399fdc8",
   "metadata": {},
   "outputs": [],
   "source": [
    "import numpy as np"
   ]
  },
  {
   "cell_type": "code",
   "execution_count": 11,
   "id": "814b800f-234d-4e49-990e-1372a230bea7",
   "metadata": {},
   "outputs": [],
   "source": [
    "z = np.random.normal(0, 1, (1, 3))"
   ]
  },
  {
   "cell_type": "code",
   "execution_count": 12,
   "id": "9e00ea59-57bc-4d4c-b878-8825b8dccb9e",
   "metadata": {},
   "outputs": [
    {
     "data": {
      "text/plain": [
       "array([[-1.98123492, -0.48001045,  1.43229223]])"
      ]
     },
     "execution_count": 12,
     "metadata": {},
     "output_type": "execute_result"
    }
   ],
   "source": [
    "z"
   ]
  },
  {
   "cell_type": "code",
   "execution_count": 16,
   "id": "44b395a6-25ea-4ade-ba9c-2e0ecb37ccf6",
   "metadata": {},
   "outputs": [],
   "source": [
    "from tensorflow.keras import backend as K\n",
    "\n",
    "K.clear_session()\n",
    "\n",
    "from numba import cuda\n",
    "cuda.select_device(0)\n",
    "cuda.close()"
   ]
  },
  {
   "cell_type": "code",
   "execution_count": null,
   "id": "1f667c58-2e5f-4b4a-8b79-4e7311e573f5",
   "metadata": {},
   "outputs": [],
   "source": []
  }
 ],
 "metadata": {
  "kernelspec": {
   "display_name": "Python 3 (ipykernel)",
   "language": "python",
   "name": "python3"
  },
  "language_info": {
   "codemirror_mode": {
    "name": "ipython",
    "version": 3
   },
   "file_extension": ".py",
   "mimetype": "text/x-python",
   "name": "python",
   "nbconvert_exporter": "python",
   "pygments_lexer": "ipython3",
   "version": "3.9.12"
  }
 },
 "nbformat": 4,
 "nbformat_minor": 5
}
