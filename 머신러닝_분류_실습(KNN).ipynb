{
 "cells": [
  {
   "cell_type": "markdown",
   "id": "b1256ad6-d0aa-4450-a55f-cb34d386b28a",
   "metadata": {},
   "source": [
    "### 라이브러리 불러오기"
   ]
  },
  {
   "cell_type": "code",
   "execution_count": 1,
   "id": "b7d70d63-fd4c-4596-982d-d874a3990e97",
   "metadata": {},
   "outputs": [],
   "source": [
    "import pandas as pd\n",
    "import numpy as np"
   ]
  },
  {
   "cell_type": "code",
   "execution_count": 2,
   "id": "898778bd-3f02-4fab-933d-bc9464aee547",
   "metadata": {},
   "outputs": [],
   "source": [
    "# 모델 라이브러리 선언\n",
    "from sklearn.neighbors import KNeighborsClassifier\n",
    "\n",
    "# 훈련/테스트 데이터 자동 분리\n",
    "from sklearn.model_selection import train_test_split\n",
    "\n",
    "# 모델 정확도 라이브러리 선언\n",
    "from sklearn.metrics import accuracy_score\n",
    "from sklearn.metrics import classification_report"
   ]
  },
  {
   "cell_type": "markdown",
   "id": "6aa43aa6-476f-4b0b-b7b7-b131c6d7a4bf",
   "metadata": {},
   "source": [
    "### 데이터 불러오기"
   ]
  },
  {
   "cell_type": "code",
   "execution_count": 3,
   "id": "0cb1088c-dff5-425d-a7ab-e305054fafb2",
   "metadata": {},
   "outputs": [],
   "source": [
    "csData = pd.read_csv(\"https://raw.githubusercontent.com/hyokwan/python-lecture/master/dataset/customer.csv\")"
   ]
  },
  {
   "cell_type": "code",
   "execution_count": 4,
   "id": "061a16ef-c5d2-4300-8f75-63e9a7adef21",
   "metadata": {},
   "outputs": [
    {
     "data": {
      "text/html": [
       "<div>\n",
       "<style scoped>\n",
       "    .dataframe tbody tr th:only-of-type {\n",
       "        vertical-align: middle;\n",
       "    }\n",
       "\n",
       "    .dataframe tbody tr th {\n",
       "        vertical-align: top;\n",
       "    }\n",
       "\n",
       "    .dataframe thead th {\n",
       "        text-align: right;\n",
       "    }\n",
       "</style>\n",
       "<table border=\"1\" class=\"dataframe\">\n",
       "  <thead>\n",
       "    <tr style=\"text-align: right;\">\n",
       "      <th></th>\n",
       "      <th>balance</th>\n",
       "      <th>stock</th>\n",
       "      <th>label</th>\n",
       "    </tr>\n",
       "  </thead>\n",
       "  <tbody>\n",
       "    <tr>\n",
       "      <th>0</th>\n",
       "      <td>30000000</td>\n",
       "      <td>22500000</td>\n",
       "      <td>normal</td>\n",
       "    </tr>\n",
       "    <tr>\n",
       "      <th>1</th>\n",
       "      <td>280000000</td>\n",
       "      <td>48000000</td>\n",
       "      <td>diamond</td>\n",
       "    </tr>\n",
       "    <tr>\n",
       "      <th>2</th>\n",
       "      <td>300000000</td>\n",
       "      <td>40666666</td>\n",
       "      <td>diamond</td>\n",
       "    </tr>\n",
       "    <tr>\n",
       "      <th>3</th>\n",
       "      <td>54000000</td>\n",
       "      <td>28000000</td>\n",
       "      <td>normal</td>\n",
       "    </tr>\n",
       "    <tr>\n",
       "      <th>4</th>\n",
       "      <td>768000000</td>\n",
       "      <td>32000000</td>\n",
       "      <td>vip</td>\n",
       "    </tr>\n",
       "  </tbody>\n",
       "</table>\n",
       "</div>"
      ],
      "text/plain": [
       "     balance     stock    label\n",
       "0   30000000  22500000   normal\n",
       "1  280000000  48000000  diamond\n",
       "2  300000000  40666666  diamond\n",
       "3   54000000  28000000   normal\n",
       "4  768000000  32000000      vip"
      ]
     },
     "execution_count": 4,
     "metadata": {},
     "output_type": "execute_result"
    }
   ],
   "source": [
    "csData.head()"
   ]
  },
  {
   "cell_type": "markdown",
   "id": "b3a6e2de-624b-477f-af0a-0bfea80ef30c",
   "metadata": {},
   "source": [
    "### 1. 타입통합 / 특성 숫자 컬럼 추가"
   ]
  },
  {
   "cell_type": "code",
   "execution_count": 5,
   "id": "5478b957-ef1a-4c6a-9c81-c5e34064d654",
   "metadata": {},
   "outputs": [
    {
     "data": {
      "text/plain": [
       "0     normal\n",
       "1    diamond\n",
       "4        vip\n",
       "Name: label, dtype: object"
      ]
     },
     "execution_count": 5,
     "metadata": {},
     "output_type": "execute_result"
    }
   ],
   "source": [
    "# 라벨 유형 확인\n",
    "labels = csData.label.drop_duplicates()\n",
    "labels"
   ]
  },
  {
   "cell_type": "code",
   "execution_count": 6,
   "id": "916b3eb9-e676-427d-8395-7d43f1daf77c",
   "metadata": {},
   "outputs": [],
   "source": [
    "# 상관관계 분석을 위한 라벨코드 컬럼 추가\n",
    "labelDict = {\"normal\":0,\n",
    "             \"diamond\":1,\n",
    "             \"vip\":2}"
   ]
  },
  {
   "cell_type": "code",
   "execution_count": 7,
   "id": "8410b078-25da-4136-ba8c-4df8e661543e",
   "metadata": {},
   "outputs": [],
   "source": [
    "csData[\"labelCode\"] =  csData.label.map(labelDict)"
   ]
  },
  {
   "cell_type": "code",
   "execution_count": 8,
   "id": "e7f9c1f9-5f33-4698-913d-c8b0062eb2d2",
   "metadata": {},
   "outputs": [
    {
     "data": {
      "text/html": [
       "<div>\n",
       "<style scoped>\n",
       "    .dataframe tbody tr th:only-of-type {\n",
       "        vertical-align: middle;\n",
       "    }\n",
       "\n",
       "    .dataframe tbody tr th {\n",
       "        vertical-align: top;\n",
       "    }\n",
       "\n",
       "    .dataframe thead th {\n",
       "        text-align: right;\n",
       "    }\n",
       "</style>\n",
       "<table border=\"1\" class=\"dataframe\">\n",
       "  <thead>\n",
       "    <tr style=\"text-align: right;\">\n",
       "      <th></th>\n",
       "      <th>balance</th>\n",
       "      <th>stock</th>\n",
       "      <th>label</th>\n",
       "      <th>labelCode</th>\n",
       "    </tr>\n",
       "  </thead>\n",
       "  <tbody>\n",
       "    <tr>\n",
       "      <th>0</th>\n",
       "      <td>30000000</td>\n",
       "      <td>22500000</td>\n",
       "      <td>normal</td>\n",
       "      <td>0</td>\n",
       "    </tr>\n",
       "    <tr>\n",
       "      <th>1</th>\n",
       "      <td>280000000</td>\n",
       "      <td>48000000</td>\n",
       "      <td>diamond</td>\n",
       "      <td>1</td>\n",
       "    </tr>\n",
       "    <tr>\n",
       "      <th>2</th>\n",
       "      <td>300000000</td>\n",
       "      <td>40666666</td>\n",
       "      <td>diamond</td>\n",
       "      <td>1</td>\n",
       "    </tr>\n",
       "    <tr>\n",
       "      <th>3</th>\n",
       "      <td>54000000</td>\n",
       "      <td>28000000</td>\n",
       "      <td>normal</td>\n",
       "      <td>0</td>\n",
       "    </tr>\n",
       "    <tr>\n",
       "      <th>4</th>\n",
       "      <td>768000000</td>\n",
       "      <td>32000000</td>\n",
       "      <td>vip</td>\n",
       "      <td>2</td>\n",
       "    </tr>\n",
       "    <tr>\n",
       "      <th>...</th>\n",
       "      <td>...</td>\n",
       "      <td>...</td>\n",
       "      <td>...</td>\n",
       "      <td>...</td>\n",
       "    </tr>\n",
       "    <tr>\n",
       "      <th>19995</th>\n",
       "      <td>628000000</td>\n",
       "      <td>44666666</td>\n",
       "      <td>diamond</td>\n",
       "      <td>1</td>\n",
       "    </tr>\n",
       "    <tr>\n",
       "      <th>19996</th>\n",
       "      <td>276000000</td>\n",
       "      <td>20000000</td>\n",
       "      <td>normal</td>\n",
       "      <td>0</td>\n",
       "    </tr>\n",
       "    <tr>\n",
       "      <th>19997</th>\n",
       "      <td>652000000</td>\n",
       "      <td>41333333</td>\n",
       "      <td>diamond</td>\n",
       "      <td>1</td>\n",
       "    </tr>\n",
       "    <tr>\n",
       "      <th>19998</th>\n",
       "      <td>676000000</td>\n",
       "      <td>45333333</td>\n",
       "      <td>diamond</td>\n",
       "      <td>1</td>\n",
       "    </tr>\n",
       "    <tr>\n",
       "      <th>19999</th>\n",
       "      <td>732000000</td>\n",
       "      <td>26000000</td>\n",
       "      <td>diamond</td>\n",
       "      <td>1</td>\n",
       "    </tr>\n",
       "  </tbody>\n",
       "</table>\n",
       "<p>20000 rows × 4 columns</p>\n",
       "</div>"
      ],
      "text/plain": [
       "         balance     stock    label  labelCode\n",
       "0       30000000  22500000   normal          0\n",
       "1      280000000  48000000  diamond          1\n",
       "2      300000000  40666666  diamond          1\n",
       "3       54000000  28000000   normal          0\n",
       "4      768000000  32000000      vip          2\n",
       "...          ...       ...      ...        ...\n",
       "19995  628000000  44666666  diamond          1\n",
       "19996  276000000  20000000   normal          0\n",
       "19997  652000000  41333333  diamond          1\n",
       "19998  676000000  45333333  diamond          1\n",
       "19999  732000000  26000000  diamond          1\n",
       "\n",
       "[20000 rows x 4 columns]"
      ]
     },
     "execution_count": 8,
     "metadata": {},
     "output_type": "execute_result"
    }
   ],
   "source": [
    "csData"
   ]
  },
  {
   "cell_type": "markdown",
   "id": "19e16af2-4174-4a6a-a002-3041b213159f",
   "metadata": {},
   "source": [
    "### 2. 특성선정 / 데이터 분리"
   ]
  },
  {
   "cell_type": "markdown",
   "id": "f314c527-f10f-4532-9340-cb8ff65a7b98",
   "metadata": {},
   "source": [
    "#### 2-1. 특성 선정"
   ]
  },
  {
   "cell_type": "code",
   "execution_count": 13,
   "id": "44f45df0-1349-46a6-ae95-d2ab2d9cdbcc",
   "metadata": {},
   "outputs": [
    {
     "data": {
      "text/html": [
       "<div>\n",
       "<style scoped>\n",
       "    .dataframe tbody tr th:only-of-type {\n",
       "        vertical-align: middle;\n",
       "    }\n",
       "\n",
       "    .dataframe tbody tr th {\n",
       "        vertical-align: top;\n",
       "    }\n",
       "\n",
       "    .dataframe thead th {\n",
       "        text-align: right;\n",
       "    }\n",
       "</style>\n",
       "<table border=\"1\" class=\"dataframe\">\n",
       "  <thead>\n",
       "    <tr style=\"text-align: right;\">\n",
       "      <th></th>\n",
       "      <th>balance</th>\n",
       "      <th>stock</th>\n",
       "      <th>labelCode</th>\n",
       "    </tr>\n",
       "  </thead>\n",
       "  <tbody>\n",
       "    <tr>\n",
       "      <th>balance</th>\n",
       "      <td>1.000000</td>\n",
       "      <td>0.565942</td>\n",
       "      <td>0.883144</td>\n",
       "    </tr>\n",
       "    <tr>\n",
       "      <th>stock</th>\n",
       "      <td>0.565942</td>\n",
       "      <td>1.000000</td>\n",
       "      <td>0.824174</td>\n",
       "    </tr>\n",
       "    <tr>\n",
       "      <th>labelCode</th>\n",
       "      <td>0.883144</td>\n",
       "      <td>0.824174</td>\n",
       "      <td>1.000000</td>\n",
       "    </tr>\n",
       "  </tbody>\n",
       "</table>\n",
       "</div>"
      ],
      "text/plain": [
       "            balance     stock  labelCode\n",
       "balance    1.000000  0.565942   0.883144\n",
       "stock      0.565942  1.000000   0.824174\n",
       "labelCode  0.883144  0.824174   1.000000"
      ]
     },
     "execution_count": 13,
     "metadata": {},
     "output_type": "execute_result"
    }
   ],
   "source": [
    "corrDf = csData.corr()\n",
    "corrDf"
   ]
  },
  {
   "cell_type": "code",
   "execution_count": 14,
   "id": "8f856223-1ce4-427d-9d7b-3341c39685d5",
   "metadata": {},
   "outputs": [],
   "source": [
    "# features(특성) 선정\n",
    "featuresStd = 0.5"
   ]
  },
  {
   "cell_type": "code",
   "execution_count": 15,
   "id": "d84decd4-ca0b-4de0-9507-32aabc3505a7",
   "metadata": {},
   "outputs": [
    {
     "data": {
      "text/html": [
       "<div>\n",
       "<style scoped>\n",
       "    .dataframe tbody tr th:only-of-type {\n",
       "        vertical-align: middle;\n",
       "    }\n",
       "\n",
       "    .dataframe tbody tr th {\n",
       "        vertical-align: top;\n",
       "    }\n",
       "\n",
       "    .dataframe thead th {\n",
       "        text-align: right;\n",
       "    }\n",
       "</style>\n",
       "<table border=\"1\" class=\"dataframe\">\n",
       "  <thead>\n",
       "    <tr style=\"text-align: right;\">\n",
       "      <th></th>\n",
       "      <th>balance</th>\n",
       "      <th>stock</th>\n",
       "      <th>labelCode</th>\n",
       "    </tr>\n",
       "  </thead>\n",
       "  <tbody>\n",
       "    <tr>\n",
       "      <th>balance</th>\n",
       "      <td>1.000000</td>\n",
       "      <td>0.565942</td>\n",
       "      <td>0.883144</td>\n",
       "    </tr>\n",
       "    <tr>\n",
       "      <th>stock</th>\n",
       "      <td>0.565942</td>\n",
       "      <td>1.000000</td>\n",
       "      <td>0.824174</td>\n",
       "    </tr>\n",
       "  </tbody>\n",
       "</table>\n",
       "</div>"
      ],
      "text/plain": [
       "          balance     stock  labelCode\n",
       "balance  1.000000  0.565942   0.883144\n",
       "stock    0.565942  1.000000   0.824174"
      ]
     },
     "execution_count": 15,
     "metadata": {},
     "output_type": "execute_result"
    }
   ],
   "source": [
    "corrDf[ ( abs( corrDf.labelCode ) > featuresStd ) & ( abs( corrDf.labelCode ) != 1 ) ]"
   ]
  },
  {
   "cell_type": "code",
   "execution_count": 17,
   "id": "e0771722-d00d-4bd1-9442-e69221659b64",
   "metadata": {},
   "outputs": [
    {
     "data": {
      "text/plain": [
       "['balance', 'stock']"
      ]
     },
     "execution_count": 17,
     "metadata": {},
     "output_type": "execute_result"
    }
   ],
   "source": [
    "list( ( corrDf[ ( abs( corrDf.labelCode ) > featuresStd ) & ( abs( corrDf.labelCode ) != 1 ) ] ).index )"
   ]
  },
  {
   "cell_type": "code",
   "execution_count": 18,
   "id": "5c5fb117-bd36-47a9-b587-cb13f70760e6",
   "metadata": {},
   "outputs": [
    {
     "data": {
      "text/plain": [
       "['balance', 'stock']"
      ]
     },
     "execution_count": 18,
     "metadata": {},
     "output_type": "execute_result"
    }
   ],
   "source": [
    "features = list( ( corrDf[ ( abs( corrDf.labelCode ) > featuresStd ) & ( abs( corrDf.labelCode ) != 1 ) ] ).index )\n",
    "features"
   ]
  },
  {
   "cell_type": "code",
   "execution_count": 19,
   "id": "112405ba-a22c-4095-98ed-2c8a9953e5dd",
   "metadata": {},
   "outputs": [],
   "source": [
    "label = [\"label\"]"
   ]
  },
  {
   "cell_type": "code",
   "execution_count": 20,
   "id": "d4b2811e-30ab-4699-a6ef-3d0208b6d983",
   "metadata": {},
   "outputs": [],
   "source": [
    "# features, label 컬럼 설정\n",
    "featuresData = csData.loc[:, features]\n",
    "labelData = csData.loc[:, label]"
   ]
  },
  {
   "cell_type": "code",
   "execution_count": 21,
   "id": "3536ac00-359b-41c5-98f9-3864b5c2e34d",
   "metadata": {},
   "outputs": [],
   "source": [
    "traingData_features,\\\n",
    "testData_features,\\\n",
    "traingData_label,\\\n",
    "testData_label = \\\n",
    "                train_test_split(featuresData, labelData, test_size = 0.3, random_state = 1)"
   ]
  },
  {
   "cell_type": "code",
   "execution_count": 23,
   "id": "c0ffa28c-4258-4056-b5cc-65a90a72e063",
   "metadata": {},
   "outputs": [
    {
     "name": "stdout",
     "output_type": "stream",
     "text": [
      "(14000, 2)\n",
      "(6000, 2)\n",
      "(14000, 1)\n",
      "(6000, 1)\n"
     ]
    }
   ],
   "source": [
    "print(traingData_features.shape)\n",
    "print(testData_features.shape)\n",
    "print(traingData_label.shape)\n",
    "print(testData_label.shape)"
   ]
  },
  {
   "cell_type": "markdown",
   "id": "5e7cdc3f-7528-4772-9170-28c93e32b27e",
   "metadata": {},
   "source": [
    "### 3. 모델 선언 및 학습"
   ]
  },
  {
   "cell_type": "code",
   "execution_count": 34,
   "id": "15fa01e2-24bc-4c5b-a0b7-d806b8342172",
   "metadata": {},
   "outputs": [],
   "source": [
    "# 모델 정의\n",
    "modelMethod = KNeighborsClassifier(n_neighbors = 3)"
   ]
  },
  {
   "cell_type": "code",
   "execution_count": 35,
   "id": "72c040e0-1421-451d-b79a-4bd37fc7cdc1",
   "metadata": {},
   "outputs": [
    {
     "name": "stderr",
     "output_type": "stream",
     "text": [
      "C:\\Users\\AnJungHoon\\anaconda3\\lib\\site-packages\\sklearn\\neighbors\\_classification.py:198: DataConversionWarning: A column-vector y was passed when a 1d array was expected. Please change the shape of y to (n_samples,), for example using ravel().\n",
      "  return self._fit(X, y)\n"
     ]
    }
   ],
   "source": [
    "# 머신러닝(훈련데이터 features / label)\n",
    "model_KNN = modelMethod.fit(traingData_features, traingData_label)"
   ]
  },
  {
   "cell_type": "markdown",
   "id": "91e40fbe-7aea-426a-899b-40ecbae76316",
   "metadata": {},
   "source": [
    "### 4. 모델 예측"
   ]
  },
  {
   "cell_type": "code",
   "execution_count": 36,
   "id": "d26ebac5-5d10-4d24-8bb7-a9531ac46042",
   "metadata": {},
   "outputs": [
    {
     "name": "stderr",
     "output_type": "stream",
     "text": [
      "C:\\Users\\AnJungHoon\\anaconda3\\lib\\site-packages\\sklearn\\neighbors\\_classification.py:228: FutureWarning: Unlike other reduction functions (e.g. `skew`, `kurtosis`), the default behavior of `mode` typically preserves the axis it acts along. In SciPy 1.11.0, this behavior will change: the default value of `keepdims` will become False, the `axis` over which the statistic is taken will be eliminated, and the value None will no longer be accepted. Set `keepdims` to True or False to avoid this warning.\n",
      "  mode, _ = stats.mode(_y[neigh_ind, k], axis=1)\n"
     ]
    },
    {
     "data": {
      "text/plain": [
       "array(['diamond', 'diamond', 'diamond', ..., 'diamond', 'vip', 'diamond'],\n",
       "      dtype=object)"
      ]
     },
     "execution_count": 36,
     "metadata": {},
     "output_type": "execute_result"
    }
   ],
   "source": [
    "# 예측\n",
    "predict = model_KNN.predict(testData_features)\n",
    "predict"
   ]
  },
  {
   "cell_type": "markdown",
   "id": "29fed288-3c33-4b44-8c49-c100ec570290",
   "metadata": {},
   "source": [
    "### 5. 데이터 정리"
   ]
  },
  {
   "cell_type": "code",
   "execution_count": 37,
   "id": "a319b8d1-96b6-429d-b5d7-48c155db3386",
   "metadata": {},
   "outputs": [],
   "source": [
    "# 예측 결과를 데이터프레임으로 변환\n",
    "predictData = pd.DataFrame(predict, columns=[\"PREDICT\"])"
   ]
  },
  {
   "cell_type": "code",
   "execution_count": 38,
   "id": "8184ca50-d78a-4bae-8ba7-3a461d5e8aff",
   "metadata": {},
   "outputs": [],
   "source": [
    "# 테스트데이터 정답지 인덱스 초기화\n",
    "testData_label.reset_index(drop = True, inplace = True)"
   ]
  },
  {
   "cell_type": "code",
   "execution_count": 39,
   "id": "c138ca46-e1a3-4f19-816e-5731c08c68d2",
   "metadata": {},
   "outputs": [],
   "source": [
    "# 예측결과 / 정답지 병합\n",
    "finalResult = pd.concat( [testData_label, predictData], axis = 1 )"
   ]
  },
  {
   "cell_type": "code",
   "execution_count": 40,
   "id": "2a273c84-54d7-4b47-a794-8996051fa962",
   "metadata": {},
   "outputs": [
    {
     "data": {
      "text/html": [
       "<div>\n",
       "<style scoped>\n",
       "    .dataframe tbody tr th:only-of-type {\n",
       "        vertical-align: middle;\n",
       "    }\n",
       "\n",
       "    .dataframe tbody tr th {\n",
       "        vertical-align: top;\n",
       "    }\n",
       "\n",
       "    .dataframe thead th {\n",
       "        text-align: right;\n",
       "    }\n",
       "</style>\n",
       "<table border=\"1\" class=\"dataframe\">\n",
       "  <thead>\n",
       "    <tr style=\"text-align: right;\">\n",
       "      <th></th>\n",
       "      <th>label</th>\n",
       "      <th>PREDICT</th>\n",
       "    </tr>\n",
       "  </thead>\n",
       "  <tbody>\n",
       "    <tr>\n",
       "      <th>0</th>\n",
       "      <td>diamond</td>\n",
       "      <td>diamond</td>\n",
       "    </tr>\n",
       "    <tr>\n",
       "      <th>1</th>\n",
       "      <td>diamond</td>\n",
       "      <td>diamond</td>\n",
       "    </tr>\n",
       "    <tr>\n",
       "      <th>2</th>\n",
       "      <td>diamond</td>\n",
       "      <td>diamond</td>\n",
       "    </tr>\n",
       "    <tr>\n",
       "      <th>3</th>\n",
       "      <td>normal</td>\n",
       "      <td>normal</td>\n",
       "    </tr>\n",
       "    <tr>\n",
       "      <th>4</th>\n",
       "      <td>normal</td>\n",
       "      <td>normal</td>\n",
       "    </tr>\n",
       "    <tr>\n",
       "      <th>...</th>\n",
       "      <td>...</td>\n",
       "      <td>...</td>\n",
       "    </tr>\n",
       "    <tr>\n",
       "      <th>5995</th>\n",
       "      <td>diamond</td>\n",
       "      <td>diamond</td>\n",
       "    </tr>\n",
       "    <tr>\n",
       "      <th>5996</th>\n",
       "      <td>diamond</td>\n",
       "      <td>diamond</td>\n",
       "    </tr>\n",
       "    <tr>\n",
       "      <th>5997</th>\n",
       "      <td>diamond</td>\n",
       "      <td>diamond</td>\n",
       "    </tr>\n",
       "    <tr>\n",
       "      <th>5998</th>\n",
       "      <td>vip</td>\n",
       "      <td>vip</td>\n",
       "    </tr>\n",
       "    <tr>\n",
       "      <th>5999</th>\n",
       "      <td>diamond</td>\n",
       "      <td>diamond</td>\n",
       "    </tr>\n",
       "  </tbody>\n",
       "</table>\n",
       "<p>6000 rows × 2 columns</p>\n",
       "</div>"
      ],
      "text/plain": [
       "        label  PREDICT\n",
       "0     diamond  diamond\n",
       "1     diamond  diamond\n",
       "2     diamond  diamond\n",
       "3      normal   normal\n",
       "4      normal   normal\n",
       "...       ...      ...\n",
       "5995  diamond  diamond\n",
       "5996  diamond  diamond\n",
       "5997  diamond  diamond\n",
       "5998      vip      vip\n",
       "5999  diamond  diamond\n",
       "\n",
       "[6000 rows x 2 columns]"
      ]
     },
     "execution_count": 40,
     "metadata": {},
     "output_type": "execute_result"
    }
   ],
   "source": [
    "finalResult"
   ]
  },
  {
   "cell_type": "markdown",
   "id": "1e2c605f-a4ae-4de3-a1b6-ea1d501f0f13",
   "metadata": {},
   "source": [
    "### 6. 결과 검증"
   ]
  },
  {
   "cell_type": "code",
   "execution_count": 41,
   "id": "ba2d2065-d2c7-49b4-8267-f41b8fa1b24c",
   "metadata": {},
   "outputs": [],
   "source": [
    "# 결과 테스트 하기\n",
    "ac_score = accuracy_score(testData_label, predict)\n",
    "cl_report = classification_report(testData_label, predict)"
   ]
  },
  {
   "cell_type": "code",
   "execution_count": 42,
   "id": "317a43ea-6891-437a-a4d1-85bd31c54aa5",
   "metadata": {},
   "outputs": [
    {
     "name": "stdout",
     "output_type": "stream",
     "text": [
      "Accuracy =  0.9951666666666666\n",
      "result = \n",
      "               precision    recall  f1-score   support\n",
      "\n",
      "     diamond       1.00      1.00      1.00      3483\n",
      "      normal       0.99      0.99      0.99      1803\n",
      "         vip       0.99      0.99      0.99       714\n",
      "\n",
      "    accuracy                           1.00      6000\n",
      "   macro avg       0.99      0.99      0.99      6000\n",
      "weighted avg       1.00      1.00      1.00      6000\n",
      "\n"
     ]
    }
   ],
   "source": [
    "# 결과 리포트 하기\n",
    "### accuracy : 정확도\n",
    "### precision : 정밀도 (ex. 사과라고 분류기가 예측한 결과중에 분류기가 맞춘 비율\n",
    "### recall : 재현율 (ex. 원래 사과들중에 사과라고 분류기가 맞춘 비율)\n",
    "### f1-score : precision 과 recall의 조화평균\n",
    "\n",
    "print(\"Accuracy = \", ac_score)\n",
    "print(\"result = \\n\", cl_report)"
   ]
  },
  {
   "cell_type": "code",
   "execution_count": null,
   "id": "1b3c78be-151b-4278-8183-4fc27decbf5e",
   "metadata": {},
   "outputs": [],
   "source": []
  }
 ],
 "metadata": {
  "kernelspec": {
   "display_name": "Python 3 (ipykernel)",
   "language": "python",
   "name": "python3"
  },
  "language_info": {
   "codemirror_mode": {
    "name": "ipython",
    "version": 3
   },
   "file_extension": ".py",
   "mimetype": "text/x-python",
   "name": "python",
   "nbconvert_exporter": "python",
   "pygments_lexer": "ipython3",
   "version": "3.9.12"
  }
 },
 "nbformat": 4,
 "nbformat_minor": 5
}
